{
  "nbformat": 4,
  "nbformat_minor": 0,
  "metadata": {
    "kernelspec": {
      "display_name": "Python 3",
      "language": "python",
      "name": "python3"
    },
    "language_info": {
      "codemirror_mode": {
        "name": "ipython",
        "version": 3
      },
      "file_extension": ".py",
      "mimetype": "text/x-python",
      "name": "python",
      "nbconvert_exporter": "python",
      "pygments_lexer": "ipython3",
      "version": "3.7.9"
    },
    "colab": {
      "name": "Exercises-2.ipynb",
      "provenance": []
    }
  },
  "cells": [
    {
      "cell_type": "code",
      "metadata": {
        "jupyter": {
          "outputs_hidden": false
        },
        "id": "W5nVxd5DxNNY"
      },
      "source": [
        "import pandas as pd"
      ],
      "execution_count": 6,
      "outputs": []
    },
    {
      "cell_type": "markdown",
      "metadata": {
        "id": "btqS9UKBxNNZ"
      },
      "source": [
        "### Download the data and load it to Pandas. \n",
        "\n",
        "You can find them [here](https://drive.google.com/file/d/1NY6cmF9Shjw-dD7BD6bNmfcIVz-kQcFR/view?usp=sharing)."
      ]
    },
    {
      "cell_type": "code",
      "metadata": {
        "jupyter": {
          "outputs_hidden": false
        },
        "colab": {
          "base_uri": "https://localhost:8080/",
          "height": 201
        },
        "id": "ATNEmF4CxNNa",
        "outputId": "cdb073ac-0313-499c-eef6-49aad7b2969a"
      },
      "source": [
        "titles = pd.read_csv('titles.csv', index_col=None)\n",
        "titles.head()"
      ],
      "execution_count": 7,
      "outputs": [
        {
          "output_type": "execute_result",
          "data": {
            "text/html": [
              "<div>\n",
              "<style scoped>\n",
              "    .dataframe tbody tr th:only-of-type {\n",
              "        vertical-align: middle;\n",
              "    }\n",
              "\n",
              "    .dataframe tbody tr th {\n",
              "        vertical-align: top;\n",
              "    }\n",
              "\n",
              "    .dataframe thead th {\n",
              "        text-align: right;\n",
              "    }\n",
              "</style>\n",
              "<table border=\"1\" class=\"dataframe\">\n",
              "  <thead>\n",
              "    <tr style=\"text-align: right;\">\n",
              "      <th></th>\n",
              "      <th>title</th>\n",
              "      <th>year</th>\n",
              "    </tr>\n",
              "  </thead>\n",
              "  <tbody>\n",
              "    <tr>\n",
              "      <th>0</th>\n",
              "      <td>The Rising Son</td>\n",
              "      <td>1990</td>\n",
              "    </tr>\n",
              "    <tr>\n",
              "      <th>1</th>\n",
              "      <td>The Thousand Plane Raid</td>\n",
              "      <td>1969</td>\n",
              "    </tr>\n",
              "    <tr>\n",
              "      <th>2</th>\n",
              "      <td>Crucea de piatra</td>\n",
              "      <td>1993</td>\n",
              "    </tr>\n",
              "    <tr>\n",
              "      <th>3</th>\n",
              "      <td>Country</td>\n",
              "      <td>2000</td>\n",
              "    </tr>\n",
              "    <tr>\n",
              "      <th>4</th>\n",
              "      <td>Gaiking II</td>\n",
              "      <td>2011</td>\n",
              "    </tr>\n",
              "  </tbody>\n",
              "</table>\n",
              "</div>"
            ],
            "text/plain": [
              "                     title  year\n",
              "0           The Rising Son  1990\n",
              "1  The Thousand Plane Raid  1969\n",
              "2         Crucea de piatra  1993\n",
              "3                  Country  2000\n",
              "4               Gaiking II  2011"
            ]
          },
          "metadata": {},
          "execution_count": 7
        }
      ]
    },
    {
      "cell_type": "code",
      "metadata": {
        "jupyter": {
          "outputs_hidden": false
        },
        "colab": {
          "base_uri": "https://localhost:8080/",
          "height": 201
        },
        "id": "NxyGWRCBxNNa",
        "outputId": "39939c77-7b3b-45b0-f485-e9099a680ffe"
      },
      "source": [
        "cast = pd.read_csv('cast.csv', index_col=None)\n",
        "cast.head()"
      ],
      "execution_count": 8,
      "outputs": [
        {
          "output_type": "execute_result",
          "data": {
            "text/html": [
              "<div>\n",
              "<style scoped>\n",
              "    .dataframe tbody tr th:only-of-type {\n",
              "        vertical-align: middle;\n",
              "    }\n",
              "\n",
              "    .dataframe tbody tr th {\n",
              "        vertical-align: top;\n",
              "    }\n",
              "\n",
              "    .dataframe thead th {\n",
              "        text-align: right;\n",
              "    }\n",
              "</style>\n",
              "<table border=\"1\" class=\"dataframe\">\n",
              "  <thead>\n",
              "    <tr style=\"text-align: right;\">\n",
              "      <th></th>\n",
              "      <th>title</th>\n",
              "      <th>year</th>\n",
              "      <th>name</th>\n",
              "      <th>type</th>\n",
              "      <th>character</th>\n",
              "      <th>n</th>\n",
              "    </tr>\n",
              "  </thead>\n",
              "  <tbody>\n",
              "    <tr>\n",
              "      <th>0</th>\n",
              "      <td>Closet Monster</td>\n",
              "      <td>2015</td>\n",
              "      <td>Buffy #1</td>\n",
              "      <td>actor</td>\n",
              "      <td>Buffy 4</td>\n",
              "      <td>NaN</td>\n",
              "    </tr>\n",
              "    <tr>\n",
              "      <th>1</th>\n",
              "      <td>Suuri illusioni</td>\n",
              "      <td>1985</td>\n",
              "      <td>Homo $</td>\n",
              "      <td>actor</td>\n",
              "      <td>Guests</td>\n",
              "      <td>22.0</td>\n",
              "    </tr>\n",
              "    <tr>\n",
              "      <th>2</th>\n",
              "      <td>Battle of the Sexes</td>\n",
              "      <td>2017</td>\n",
              "      <td>$hutter</td>\n",
              "      <td>actor</td>\n",
              "      <td>Bobby Riggs Fan</td>\n",
              "      <td>10.0</td>\n",
              "    </tr>\n",
              "    <tr>\n",
              "      <th>3</th>\n",
              "      <td>Secret in Their Eyes</td>\n",
              "      <td>2015</td>\n",
              "      <td>$hutter</td>\n",
              "      <td>actor</td>\n",
              "      <td>2002 Dodger Fan</td>\n",
              "      <td>NaN</td>\n",
              "    </tr>\n",
              "    <tr>\n",
              "      <th>4</th>\n",
              "      <td>Steve Jobs</td>\n",
              "      <td>2015</td>\n",
              "      <td>$hutter</td>\n",
              "      <td>actor</td>\n",
              "      <td>1988 Opera House Patron</td>\n",
              "      <td>NaN</td>\n",
              "    </tr>\n",
              "  </tbody>\n",
              "</table>\n",
              "</div>"
            ],
            "text/plain": [
              "                  title  year      name   type                character     n\n",
              "0        Closet Monster  2015  Buffy #1  actor                  Buffy 4   NaN\n",
              "1       Suuri illusioni  1985    Homo $  actor                   Guests  22.0\n",
              "2   Battle of the Sexes  2017   $hutter  actor          Bobby Riggs Fan  10.0\n",
              "3  Secret in Their Eyes  2015   $hutter  actor          2002 Dodger Fan   NaN\n",
              "4            Steve Jobs  2015   $hutter  actor  1988 Opera House Patron   NaN"
            ]
          },
          "metadata": {},
          "execution_count": 8
        }
      ]
    },
    {
      "cell_type": "markdown",
      "metadata": {
        "id": "qRjJDtv7xNNa"
      },
      "source": [
        "### What are the ten most common movie names of all time?"
      ]
    },
    {
      "cell_type": "code",
      "metadata": {
        "colab": {
          "base_uri": "https://localhost:8080/"
        },
        "id": "6jHo6WYc4Bl1",
        "outputId": "464be4f5-7ec6-4600-c8e5-cece2b73238b"
      },
      "source": [
        "titles['title'].value_counts()[:10].sort_values(ascending=False)"
      ],
      "execution_count": 9,
      "outputs": [
        {
          "output_type": "execute_result",
          "data": {
            "text/plain": [
              "Hamlet                  18\n",
              "Carmen                  16\n",
              "Macbeth                 15\n",
              "The Outsider            12\n",
              "Maya                    12\n",
              "The Three Musketeers    11\n",
              "Temptation              11\n",
              "Freedom                 11\n",
              "Othello                 11\n",
              "Kismet                  11\n",
              "Name: title, dtype: int64"
            ]
          },
          "metadata": {},
          "execution_count": 9
        }
      ]
    },
    {
      "cell_type": "code",
      "metadata": {
        "collapsed": true,
        "jupyter": {
          "outputs_hidden": true
        },
        "colab": {
          "base_uri": "https://localhost:8080/"
        },
        "id": "lDEZk_hDxNNb",
        "outputId": "aadc1263-457a-48c5-f6ce-93d84d6e71cb"
      },
      "source": [
        "\n",
        "n = 10\n",
        "titles['title'].value_counts()[:n].index.tolist()"
      ],
      "execution_count": 10,
      "outputs": [
        {
          "output_type": "execute_result",
          "data": {
            "text/plain": [
              "['Hamlet',\n",
              " 'Carmen',\n",
              " 'Macbeth',\n",
              " 'Maya',\n",
              " 'The Outsider',\n",
              " 'Kismet',\n",
              " 'Othello',\n",
              " 'Freedom',\n",
              " 'Temptation',\n",
              " 'The Three Musketeers']"
            ]
          },
          "metadata": {},
          "execution_count": 10
        }
      ]
    },
    {
      "cell_type": "code",
      "metadata": {
        "collapsed": true,
        "jupyter": {
          "outputs_hidden": true
        },
        "id": "HiTYO6raxNNb"
      },
      "source": [
        ""
      ],
      "execution_count": 10,
      "outputs": []
    },
    {
      "cell_type": "markdown",
      "metadata": {
        "id": "T13Jjw3uxNNb"
      },
      "source": [
        "### Which three years in the 1930s saw the most films released?"
      ]
    },
    {
      "cell_type": "code",
      "metadata": {
        "collapsed": true,
        "jupyter": {
          "outputs_hidden": true
        },
        "colab": {
          "base_uri": "https://localhost:8080/"
        },
        "id": "VEE1SYnqxNNb",
        "outputId": "d73480d9-69a2-4851-df86-8f70e8d61cdb"
      },
      "source": [
        "q = titles[titles[\"year\"].between(1930,1939)]\n",
        "q[\"year\"].value_counts().sort_index(ascending=False).head(3)"
      ],
      "execution_count": 11,
      "outputs": [
        {
          "output_type": "execute_result",
          "data": {
            "text/plain": [
              "1939    1078\n",
              "1938    1129\n",
              "1937    1196\n",
              "Name: year, dtype: int64"
            ]
          },
          "metadata": {},
          "execution_count": 11
        }
      ]
    },
    {
      "cell_type": "code",
      "metadata": {
        "collapsed": true,
        "jupyter": {
          "outputs_hidden": true
        },
        "id": "lRImC1UfxNNb"
      },
      "source": [
        ""
      ],
      "execution_count": 11,
      "outputs": []
    },
    {
      "cell_type": "markdown",
      "metadata": {
        "id": "T89XVf3WxNNb"
      },
      "source": [
        "### Count the number of films that have been released in each decade over the history of cinema."
      ]
    },
    {
      "cell_type": "code",
      "metadata": {
        "id": "ybwqcDvmAMed"
      },
      "source": [
        ""
      ],
      "execution_count": 11,
      "outputs": []
    },
    {
      "cell_type": "code",
      "metadata": {
        "collapsed": true,
        "jupyter": {
          "outputs_hidden": true
        },
        "colab": {
          "base_uri": "https://localhost:8080/",
          "height": 504
        },
        "id": "QHZWhQvyxNNc",
        "outputId": "44fe0327-cc69-4298-8a74-72a23f89667f"
      },
      "source": [
        "q = titles.groupby((titles[\"year\"]//10)*10).count()\n",
        "q"
      ],
      "execution_count": 12,
      "outputs": [
        {
          "output_type": "execute_result",
          "data": {
            "text/html": [
              "<div>\n",
              "<style scoped>\n",
              "    .dataframe tbody tr th:only-of-type {\n",
              "        vertical-align: middle;\n",
              "    }\n",
              "\n",
              "    .dataframe tbody tr th {\n",
              "        vertical-align: top;\n",
              "    }\n",
              "\n",
              "    .dataframe thead th {\n",
              "        text-align: right;\n",
              "    }\n",
              "</style>\n",
              "<table border=\"1\" class=\"dataframe\">\n",
              "  <thead>\n",
              "    <tr style=\"text-align: right;\">\n",
              "      <th></th>\n",
              "      <th>title</th>\n",
              "      <th>year</th>\n",
              "    </tr>\n",
              "    <tr>\n",
              "      <th>year</th>\n",
              "      <th></th>\n",
              "      <th></th>\n",
              "    </tr>\n",
              "  </thead>\n",
              "  <tbody>\n",
              "    <tr>\n",
              "      <th>1890</th>\n",
              "      <td>3</td>\n",
              "      <td>3</td>\n",
              "    </tr>\n",
              "    <tr>\n",
              "      <th>1900</th>\n",
              "      <td>37</td>\n",
              "      <td>37</td>\n",
              "    </tr>\n",
              "    <tr>\n",
              "      <th>1910</th>\n",
              "      <td>6512</td>\n",
              "      <td>6512</td>\n",
              "    </tr>\n",
              "    <tr>\n",
              "      <th>1920</th>\n",
              "      <td>8797</td>\n",
              "      <td>8797</td>\n",
              "    </tr>\n",
              "    <tr>\n",
              "      <th>1930</th>\n",
              "      <td>10097</td>\n",
              "      <td>10097</td>\n",
              "    </tr>\n",
              "    <tr>\n",
              "      <th>1940</th>\n",
              "      <td>8576</td>\n",
              "      <td>8576</td>\n",
              "    </tr>\n",
              "    <tr>\n",
              "      <th>1950</th>\n",
              "      <td>12711</td>\n",
              "      <td>12711</td>\n",
              "    </tr>\n",
              "    <tr>\n",
              "      <th>1960</th>\n",
              "      <td>17515</td>\n",
              "      <td>17515</td>\n",
              "    </tr>\n",
              "    <tr>\n",
              "      <th>1970</th>\n",
              "      <td>18714</td>\n",
              "      <td>18714</td>\n",
              "    </tr>\n",
              "    <tr>\n",
              "      <th>1980</th>\n",
              "      <td>20243</td>\n",
              "      <td>20243</td>\n",
              "    </tr>\n",
              "    <tr>\n",
              "      <th>1990</th>\n",
              "      <td>22225</td>\n",
              "      <td>22225</td>\n",
              "    </tr>\n",
              "    <tr>\n",
              "      <th>2000</th>\n",
              "      <td>38713</td>\n",
              "      <td>38713</td>\n",
              "    </tr>\n",
              "    <tr>\n",
              "      <th>2010</th>\n",
              "      <td>67977</td>\n",
              "      <td>67977</td>\n",
              "    </tr>\n",
              "    <tr>\n",
              "      <th>2020</th>\n",
              "      <td>210</td>\n",
              "      <td>210</td>\n",
              "    </tr>\n",
              "  </tbody>\n",
              "</table>\n",
              "</div>"
            ],
            "text/plain": [
              "      title   year\n",
              "year              \n",
              "1890      3      3\n",
              "1900     37     37\n",
              "1910   6512   6512\n",
              "1920   8797   8797\n",
              "1930  10097  10097\n",
              "1940   8576   8576\n",
              "1950  12711  12711\n",
              "1960  17515  17515\n",
              "1970  18714  18714\n",
              "1980  20243  20243\n",
              "1990  22225  22225\n",
              "2000  38713  38713\n",
              "2010  67977  67977\n",
              "2020    210    210"
            ]
          },
          "metadata": {},
          "execution_count": 12
        }
      ]
    },
    {
      "cell_type": "code",
      "metadata": {
        "collapsed": true,
        "jupyter": {
          "outputs_hidden": true
        },
        "id": "o0UaLVoXxNNc"
      },
      "source": [
        ""
      ],
      "execution_count": 12,
      "outputs": []
    },
    {
      "cell_type": "markdown",
      "metadata": {
        "id": "S-OOwq4TxNNc"
      },
      "source": [
        "### Count the number of \"Hamlet\" films made in each decade."
      ]
    },
    {
      "cell_type": "code",
      "metadata": {
        "collapsed": true,
        "jupyter": {
          "outputs_hidden": true
        },
        "colab": {
          "base_uri": "https://localhost:8080/",
          "height": 1000
        },
        "id": "Wo8Ls-bQxNNc",
        "outputId": "25e69128-216e-4077-f5c1-42ece9eb5af7"
      },
      "source": [
        "q=titles[titles['title'].str.contains(\"Hamlet\")]\n",
        "print(q)\n",
        "q = titles.groupby((q[\"year\"]//10)*10).count()\n",
        "q"
      ],
      "execution_count": 13,
      "outputs": [
        {
          "output_type": "stream",
          "name": "stdout",
          "text": [
            "                                          title  year\n",
            "4394            Dogg's Hamlet, Cahoot's Macbeth  2005\n",
            "6009                                     Hamlet  1948\n",
            "7670                  Hamlet: Prince of Denmark  1989\n",
            "8582                                Hamlet (II)  2005\n",
            "8865                                Hamlet (II)  2015\n",
            "14317                     Green Eggs and Hamlet  1995\n",
            "15183                            Hamlet Unbound  2012\n",
            "15202             Hamlet: The Fall of a Sparrow  2017\n",
            "17419                 Hamlet, Prince of Denmark  1997\n",
            "24178                        Han, hun og Hamlet  1932\n",
            "24284               Intikam Melegi/Kadin Hamlet  1976\n",
            "37146                                  Hamlet_X  2003\n",
            "39230                  Hamlet, Son of a Kingpin  2015\n",
            "42266                               Hamlet (IV)  2016\n",
            "44682                              Hamlet (III)  2007\n",
            "45350                                    Hamlet  1990\n",
            "46721                                    Hamlet  1910\n",
            "62549                            Redneck Hamlet  2017\n",
            "71152   The Tragedy of Hamlet Prince of Denmark  2007\n",
            "72925                        A Sagebrush Hamlet  1919\n",
            "83789                       Harry, Hamlet and I  2013\n",
            "92146                                    Hamlet  1976\n",
            "94355                                    Hamlet  1987\n",
            "94554                                    Hamlet  2000\n",
            "98086                                  Hamlet 2  2008\n",
            "98554                                    Hamlet  1921\n",
            "99398                        Han, hun og Hamlet  1922\n",
            "102506      Predstava 'Hamleta' u Mrdusi Donjoj  1974\n",
            "102919                                   Hamlet  2011\n",
            "109367                            Hamlet Frezer  2016\n",
            "113096                             Hamlet (III)  2016\n",
            "114431                   Hamlet liikemaailmassa  1987\n",
            "122704                                   Hamlet  1969\n",
            "128388                                   Hamlet  1954\n",
            "143184                            Hamlet A.D.D.  2014\n",
            "151918                              Fuck Hamlet  1996\n",
            "163471                              Hamlet (II)  2007\n",
            "166410                                   Hamlet  1913\n",
            "167861                            Zombie Hamlet  2012\n",
            "168965                                   Hamlet  2015\n",
            "172418                Hamlet the Vampire Slayer  2008\n",
            "174293                                 Hamlet X  2004\n",
            "176069                                   Hamlet  2009\n",
            "182970                                   Hamlet  1964\n",
            "192443                             H for Hamlet  1993\n",
            "193914        Royal Shakespeare Company: Hamlet  2016\n",
            "195089                           Hamlet's Ghost  2015\n",
            "201291                                   Hamlet  1996\n",
            "209878                                   Hamlet  1911\n",
            "211393                           Kitchen Hamlet  2009\n",
            "221479                                   Hamlet  1973\n",
            "223568                                   Hamlet  2014\n",
            "223618                   Hamlet in the Hamptons  2002\n",
            "227105                              Hamlet (II)  1964\n"
          ]
        },
        {
          "output_type": "execute_result",
          "data": {
            "text/html": [
              "<div>\n",
              "<style scoped>\n",
              "    .dataframe tbody tr th:only-of-type {\n",
              "        vertical-align: middle;\n",
              "    }\n",
              "\n",
              "    .dataframe tbody tr th {\n",
              "        vertical-align: top;\n",
              "    }\n",
              "\n",
              "    .dataframe thead th {\n",
              "        text-align: right;\n",
              "    }\n",
              "</style>\n",
              "<table border=\"1\" class=\"dataframe\">\n",
              "  <thead>\n",
              "    <tr style=\"text-align: right;\">\n",
              "      <th></th>\n",
              "      <th>title</th>\n",
              "      <th>year</th>\n",
              "    </tr>\n",
              "    <tr>\n",
              "      <th>year</th>\n",
              "      <th></th>\n",
              "      <th></th>\n",
              "    </tr>\n",
              "  </thead>\n",
              "  <tbody>\n",
              "    <tr>\n",
              "      <th>1910.0</th>\n",
              "      <td>4</td>\n",
              "      <td>4</td>\n",
              "    </tr>\n",
              "    <tr>\n",
              "      <th>1920.0</th>\n",
              "      <td>2</td>\n",
              "      <td>2</td>\n",
              "    </tr>\n",
              "    <tr>\n",
              "      <th>1930.0</th>\n",
              "      <td>1</td>\n",
              "      <td>1</td>\n",
              "    </tr>\n",
              "    <tr>\n",
              "      <th>1940.0</th>\n",
              "      <td>1</td>\n",
              "      <td>1</td>\n",
              "    </tr>\n",
              "    <tr>\n",
              "      <th>1950.0</th>\n",
              "      <td>1</td>\n",
              "      <td>1</td>\n",
              "    </tr>\n",
              "    <tr>\n",
              "      <th>1960.0</th>\n",
              "      <td>3</td>\n",
              "      <td>3</td>\n",
              "    </tr>\n",
              "    <tr>\n",
              "      <th>1970.0</th>\n",
              "      <td>4</td>\n",
              "      <td>4</td>\n",
              "    </tr>\n",
              "    <tr>\n",
              "      <th>1980.0</th>\n",
              "      <td>3</td>\n",
              "      <td>3</td>\n",
              "    </tr>\n",
              "    <tr>\n",
              "      <th>1990.0</th>\n",
              "      <td>6</td>\n",
              "      <td>6</td>\n",
              "    </tr>\n",
              "    <tr>\n",
              "      <th>2000.0</th>\n",
              "      <td>13</td>\n",
              "      <td>13</td>\n",
              "    </tr>\n",
              "    <tr>\n",
              "      <th>2010.0</th>\n",
              "      <td>16</td>\n",
              "      <td>16</td>\n",
              "    </tr>\n",
              "  </tbody>\n",
              "</table>\n",
              "</div>"
            ],
            "text/plain": [
              "        title  year\n",
              "year               \n",
              "1910.0      4     4\n",
              "1920.0      2     2\n",
              "1930.0      1     1\n",
              "1940.0      1     1\n",
              "1950.0      1     1\n",
              "1960.0      3     3\n",
              "1970.0      4     4\n",
              "1980.0      3     3\n",
              "1990.0      6     6\n",
              "2000.0     13    13\n",
              "2010.0     16    16"
            ]
          },
          "metadata": {},
          "execution_count": 13
        }
      ]
    },
    {
      "cell_type": "code",
      "metadata": {
        "collapsed": true,
        "jupyter": {
          "outputs_hidden": true
        },
        "id": "b6Lr_gtExNNc"
      },
      "source": [
        ""
      ],
      "execution_count": 13,
      "outputs": []
    },
    {
      "cell_type": "markdown",
      "metadata": {
        "id": "4E1CPQSKxNNc"
      },
      "source": [
        "### Count the number of \"Rustler\" characters in each decade of the history of film."
      ]
    },
    {
      "cell_type": "code",
      "metadata": {
        "collapsed": true,
        "jupyter": {
          "outputs_hidden": true
        },
        "colab": {
          "base_uri": "https://localhost:8080/",
          "height": 788
        },
        "id": "vGyvneqGxNNc",
        "outputId": "285b07a0-dbbc-485a-a748-01bd8e49b126"
      },
      "source": [
        "q=titles[titles['title'].str.contains(\"Rustler\")]\n",
        "print(q)\n",
        "q = titles.groupby((q[\"year\"]//10)*10).count()\n",
        "q"
      ],
      "execution_count": 14,
      "outputs": [
        {
          "output_type": "stream",
          "name": "stdout",
          "text": [
            "                              title  year\n",
            "1623                Rustlers' Ranch  1926\n",
            "13437               Canyon Rustlers  1925\n",
            "28405             The Rustler's End  1928\n",
            "61512           Hi-Jacking Rustlers  1926\n",
            "65543         Rustlers of the Night  1921\n",
            "71927   The Boss of Rustler's Roost  1928\n",
            "83707         The Rustler's Roundup  1933\n",
            "86273      Rustlers of the Badlands  1945\n",
            "105487        Trail of the Rustlers  1950\n",
            "130274   Rustlers of Devil's Canyon  1947\n",
            "132511             Prairie Rustlers  1945\n",
            "134442               Water Rustlers  1939\n",
            "144215        Powder River Rustlers  1949\n",
            "158270        Black Market Rustlers  1943\n",
            "163215          Rustlers of Red Dog  1935\n",
            "163901              Cupid's Rustler  1924\n",
            "163908         Romance and Rustlers  1925\n",
            "164348                     Rustlers  1949\n",
            "166374         Underground Rustlers  1941\n",
            "169189           Rustler's Paradise  1935\n",
            "171345             The Law Rustlers  1923\n",
            "181569          Wild Horse Rustlers  1943\n",
            "183574               Pinto Rustlers  1936\n",
            "186922             Rustlers' Valley  1937\n",
            "188514           Rustler's Round-up  1946\n",
            "201405           Rustlers' Rhapsody  1985\n",
            "207014        Rustlers on Horseback  1950\n",
            "211968            Rustlers' Hideout  1945\n",
            "223179         Green Horse Rustlers  2016\n",
            "225452         Bullets for Rustlers  1940\n",
            "229417         Border City Rustlers  1953\n"
          ]
        },
        {
          "output_type": "execute_result",
          "data": {
            "text/html": [
              "<div>\n",
              "<style scoped>\n",
              "    .dataframe tbody tr th:only-of-type {\n",
              "        vertical-align: middle;\n",
              "    }\n",
              "\n",
              "    .dataframe tbody tr th {\n",
              "        vertical-align: top;\n",
              "    }\n",
              "\n",
              "    .dataframe thead th {\n",
              "        text-align: right;\n",
              "    }\n",
              "</style>\n",
              "<table border=\"1\" class=\"dataframe\">\n",
              "  <thead>\n",
              "    <tr style=\"text-align: right;\">\n",
              "      <th></th>\n",
              "      <th>title</th>\n",
              "      <th>year</th>\n",
              "    </tr>\n",
              "    <tr>\n",
              "      <th>year</th>\n",
              "      <th></th>\n",
              "      <th></th>\n",
              "    </tr>\n",
              "  </thead>\n",
              "  <tbody>\n",
              "    <tr>\n",
              "      <th>1920.0</th>\n",
              "      <td>9</td>\n",
              "      <td>9</td>\n",
              "    </tr>\n",
              "    <tr>\n",
              "      <th>1930.0</th>\n",
              "      <td>6</td>\n",
              "      <td>6</td>\n",
              "    </tr>\n",
              "    <tr>\n",
              "      <th>1940.0</th>\n",
              "      <td>11</td>\n",
              "      <td>11</td>\n",
              "    </tr>\n",
              "    <tr>\n",
              "      <th>1950.0</th>\n",
              "      <td>3</td>\n",
              "      <td>3</td>\n",
              "    </tr>\n",
              "    <tr>\n",
              "      <th>1980.0</th>\n",
              "      <td>1</td>\n",
              "      <td>1</td>\n",
              "    </tr>\n",
              "    <tr>\n",
              "      <th>2010.0</th>\n",
              "      <td>1</td>\n",
              "      <td>1</td>\n",
              "    </tr>\n",
              "  </tbody>\n",
              "</table>\n",
              "</div>"
            ],
            "text/plain": [
              "        title  year\n",
              "year               \n",
              "1920.0      9     9\n",
              "1930.0      6     6\n",
              "1940.0     11    11\n",
              "1950.0      3     3\n",
              "1980.0      1     1\n",
              "2010.0      1     1"
            ]
          },
          "metadata": {},
          "execution_count": 14
        }
      ]
    },
    {
      "cell_type": "code",
      "metadata": {
        "collapsed": true,
        "jupyter": {
          "outputs_hidden": true
        },
        "id": "6EI5fsLUxNNc"
      },
      "source": [
        ""
      ],
      "execution_count": 14,
      "outputs": []
    },
    {
      "cell_type": "markdown",
      "metadata": {
        "id": "ioWncF_YxNNd"
      },
      "source": [
        "### Count the number of \"Hamlet\" characters in each decade."
      ]
    },
    {
      "cell_type": "code",
      "metadata": {
        "collapsed": true,
        "jupyter": {
          "outputs_hidden": true
        },
        "colab": {
          "base_uri": "https://localhost:8080/",
          "height": 1000
        },
        "id": "Njf-SFedxNNd",
        "outputId": "08bdfbb2-587d-44b8-a3fe-562da07f7341"
      },
      "source": [
        "q=titles[titles['title'].str.contains(\"Hamlet\")]\n",
        "print(q)\n",
        "q = titles.groupby((q[\"year\"]//10)*10).count()\n",
        "q"
      ],
      "execution_count": 15,
      "outputs": [
        {
          "output_type": "stream",
          "name": "stdout",
          "text": [
            "                                          title  year\n",
            "4394            Dogg's Hamlet, Cahoot's Macbeth  2005\n",
            "6009                                     Hamlet  1948\n",
            "7670                  Hamlet: Prince of Denmark  1989\n",
            "8582                                Hamlet (II)  2005\n",
            "8865                                Hamlet (II)  2015\n",
            "14317                     Green Eggs and Hamlet  1995\n",
            "15183                            Hamlet Unbound  2012\n",
            "15202             Hamlet: The Fall of a Sparrow  2017\n",
            "17419                 Hamlet, Prince of Denmark  1997\n",
            "24178                        Han, hun og Hamlet  1932\n",
            "24284               Intikam Melegi/Kadin Hamlet  1976\n",
            "37146                                  Hamlet_X  2003\n",
            "39230                  Hamlet, Son of a Kingpin  2015\n",
            "42266                               Hamlet (IV)  2016\n",
            "44682                              Hamlet (III)  2007\n",
            "45350                                    Hamlet  1990\n",
            "46721                                    Hamlet  1910\n",
            "62549                            Redneck Hamlet  2017\n",
            "71152   The Tragedy of Hamlet Prince of Denmark  2007\n",
            "72925                        A Sagebrush Hamlet  1919\n",
            "83789                       Harry, Hamlet and I  2013\n",
            "92146                                    Hamlet  1976\n",
            "94355                                    Hamlet  1987\n",
            "94554                                    Hamlet  2000\n",
            "98086                                  Hamlet 2  2008\n",
            "98554                                    Hamlet  1921\n",
            "99398                        Han, hun og Hamlet  1922\n",
            "102506      Predstava 'Hamleta' u Mrdusi Donjoj  1974\n",
            "102919                                   Hamlet  2011\n",
            "109367                            Hamlet Frezer  2016\n",
            "113096                             Hamlet (III)  2016\n",
            "114431                   Hamlet liikemaailmassa  1987\n",
            "122704                                   Hamlet  1969\n",
            "128388                                   Hamlet  1954\n",
            "143184                            Hamlet A.D.D.  2014\n",
            "151918                              Fuck Hamlet  1996\n",
            "163471                              Hamlet (II)  2007\n",
            "166410                                   Hamlet  1913\n",
            "167861                            Zombie Hamlet  2012\n",
            "168965                                   Hamlet  2015\n",
            "172418                Hamlet the Vampire Slayer  2008\n",
            "174293                                 Hamlet X  2004\n",
            "176069                                   Hamlet  2009\n",
            "182970                                   Hamlet  1964\n",
            "192443                             H for Hamlet  1993\n",
            "193914        Royal Shakespeare Company: Hamlet  2016\n",
            "195089                           Hamlet's Ghost  2015\n",
            "201291                                   Hamlet  1996\n",
            "209878                                   Hamlet  1911\n",
            "211393                           Kitchen Hamlet  2009\n",
            "221479                                   Hamlet  1973\n",
            "223568                                   Hamlet  2014\n",
            "223618                   Hamlet in the Hamptons  2002\n",
            "227105                              Hamlet (II)  1964\n"
          ]
        },
        {
          "output_type": "execute_result",
          "data": {
            "text/html": [
              "<div>\n",
              "<style scoped>\n",
              "    .dataframe tbody tr th:only-of-type {\n",
              "        vertical-align: middle;\n",
              "    }\n",
              "\n",
              "    .dataframe tbody tr th {\n",
              "        vertical-align: top;\n",
              "    }\n",
              "\n",
              "    .dataframe thead th {\n",
              "        text-align: right;\n",
              "    }\n",
              "</style>\n",
              "<table border=\"1\" class=\"dataframe\">\n",
              "  <thead>\n",
              "    <tr style=\"text-align: right;\">\n",
              "      <th></th>\n",
              "      <th>title</th>\n",
              "      <th>year</th>\n",
              "    </tr>\n",
              "    <tr>\n",
              "      <th>year</th>\n",
              "      <th></th>\n",
              "      <th></th>\n",
              "    </tr>\n",
              "  </thead>\n",
              "  <tbody>\n",
              "    <tr>\n",
              "      <th>1910.0</th>\n",
              "      <td>4</td>\n",
              "      <td>4</td>\n",
              "    </tr>\n",
              "    <tr>\n",
              "      <th>1920.0</th>\n",
              "      <td>2</td>\n",
              "      <td>2</td>\n",
              "    </tr>\n",
              "    <tr>\n",
              "      <th>1930.0</th>\n",
              "      <td>1</td>\n",
              "      <td>1</td>\n",
              "    </tr>\n",
              "    <tr>\n",
              "      <th>1940.0</th>\n",
              "      <td>1</td>\n",
              "      <td>1</td>\n",
              "    </tr>\n",
              "    <tr>\n",
              "      <th>1950.0</th>\n",
              "      <td>1</td>\n",
              "      <td>1</td>\n",
              "    </tr>\n",
              "    <tr>\n",
              "      <th>1960.0</th>\n",
              "      <td>3</td>\n",
              "      <td>3</td>\n",
              "    </tr>\n",
              "    <tr>\n",
              "      <th>1970.0</th>\n",
              "      <td>4</td>\n",
              "      <td>4</td>\n",
              "    </tr>\n",
              "    <tr>\n",
              "      <th>1980.0</th>\n",
              "      <td>3</td>\n",
              "      <td>3</td>\n",
              "    </tr>\n",
              "    <tr>\n",
              "      <th>1990.0</th>\n",
              "      <td>6</td>\n",
              "      <td>6</td>\n",
              "    </tr>\n",
              "    <tr>\n",
              "      <th>2000.0</th>\n",
              "      <td>13</td>\n",
              "      <td>13</td>\n",
              "    </tr>\n",
              "    <tr>\n",
              "      <th>2010.0</th>\n",
              "      <td>16</td>\n",
              "      <td>16</td>\n",
              "    </tr>\n",
              "  </tbody>\n",
              "</table>\n",
              "</div>"
            ],
            "text/plain": [
              "        title  year\n",
              "year               \n",
              "1910.0      4     4\n",
              "1920.0      2     2\n",
              "1930.0      1     1\n",
              "1940.0      1     1\n",
              "1950.0      1     1\n",
              "1960.0      3     3\n",
              "1970.0      4     4\n",
              "1980.0      3     3\n",
              "1990.0      6     6\n",
              "2000.0     13    13\n",
              "2010.0     16    16"
            ]
          },
          "metadata": {},
          "execution_count": 15
        }
      ]
    },
    {
      "cell_type": "code",
      "metadata": {
        "collapsed": true,
        "jupyter": {
          "outputs_hidden": true
        },
        "colab": {
          "base_uri": "https://localhost:8080/",
          "height": 411
        },
        "id": "NGtjJ_C1xNNd",
        "outputId": "ca4fcbfe-bda2-4c5b-9c9e-d52ef83e967f"
      },
      "source": [
        "cast"
      ],
      "execution_count": 25,
      "outputs": [
        {
          "output_type": "execute_result",
          "data": {
            "text/html": [
              "<div>\n",
              "<style scoped>\n",
              "    .dataframe tbody tr th:only-of-type {\n",
              "        vertical-align: middle;\n",
              "    }\n",
              "\n",
              "    .dataframe tbody tr th {\n",
              "        vertical-align: top;\n",
              "    }\n",
              "\n",
              "    .dataframe thead th {\n",
              "        text-align: right;\n",
              "    }\n",
              "</style>\n",
              "<table border=\"1\" class=\"dataframe\">\n",
              "  <thead>\n",
              "    <tr style=\"text-align: right;\">\n",
              "      <th></th>\n",
              "      <th>title</th>\n",
              "      <th>year</th>\n",
              "      <th>name</th>\n",
              "      <th>type</th>\n",
              "      <th>character</th>\n",
              "      <th>n</th>\n",
              "    </tr>\n",
              "  </thead>\n",
              "  <tbody>\n",
              "    <tr>\n",
              "      <th>0</th>\n",
              "      <td>Closet Monster</td>\n",
              "      <td>2015</td>\n",
              "      <td>Buffy #1</td>\n",
              "      <td>actor</td>\n",
              "      <td>Buffy 4</td>\n",
              "      <td>NaN</td>\n",
              "    </tr>\n",
              "    <tr>\n",
              "      <th>1</th>\n",
              "      <td>Suuri illusioni</td>\n",
              "      <td>1985</td>\n",
              "      <td>Homo $</td>\n",
              "      <td>actor</td>\n",
              "      <td>Guests</td>\n",
              "      <td>22.0</td>\n",
              "    </tr>\n",
              "    <tr>\n",
              "      <th>2</th>\n",
              "      <td>Battle of the Sexes</td>\n",
              "      <td>2017</td>\n",
              "      <td>$hutter</td>\n",
              "      <td>actor</td>\n",
              "      <td>Bobby Riggs Fan</td>\n",
              "      <td>10.0</td>\n",
              "    </tr>\n",
              "    <tr>\n",
              "      <th>3</th>\n",
              "      <td>Secret in Their Eyes</td>\n",
              "      <td>2015</td>\n",
              "      <td>$hutter</td>\n",
              "      <td>actor</td>\n",
              "      <td>2002 Dodger Fan</td>\n",
              "      <td>NaN</td>\n",
              "    </tr>\n",
              "    <tr>\n",
              "      <th>4</th>\n",
              "      <td>Steve Jobs</td>\n",
              "      <td>2015</td>\n",
              "      <td>$hutter</td>\n",
              "      <td>actor</td>\n",
              "      <td>1988 Opera House Patron</td>\n",
              "      <td>NaN</td>\n",
              "    </tr>\n",
              "    <tr>\n",
              "      <th>...</th>\n",
              "      <td>...</td>\n",
              "      <td>...</td>\n",
              "      <td>...</td>\n",
              "      <td>...</td>\n",
              "      <td>...</td>\n",
              "      <td>...</td>\n",
              "    </tr>\n",
              "    <tr>\n",
              "      <th>3634462</th>\n",
              "      <td>Foxtrot</td>\n",
              "      <td>1988</td>\n",
              "      <td>Lilja ??risd?ttir</td>\n",
              "      <td>actress</td>\n",
              "      <td>D?ra</td>\n",
              "      <td>24.0</td>\n",
              "    </tr>\n",
              "    <tr>\n",
              "      <th>3634463</th>\n",
              "      <td>Niceland (Population. 1.000.002)</td>\n",
              "      <td>2004</td>\n",
              "      <td>Sigr??ur J?na ??risd?ttir</td>\n",
              "      <td>actress</td>\n",
              "      <td>Woman in Bus</td>\n",
              "      <td>26.0</td>\n",
              "    </tr>\n",
              "    <tr>\n",
              "      <th>3634464</th>\n",
              "      <td>Skammdegi</td>\n",
              "      <td>1985</td>\n",
              "      <td>Dalla ??r?ard?ttir</td>\n",
              "      <td>actress</td>\n",
              "      <td>Hj?krunarkona</td>\n",
              "      <td>9.0</td>\n",
              "    </tr>\n",
              "    <tr>\n",
              "      <th>3634465</th>\n",
              "      <td>U.S.S.S.S...</td>\n",
              "      <td>2003</td>\n",
              "      <td>Krist?n Andrea ??r?ard?ttir</td>\n",
              "      <td>actress</td>\n",
              "      <td>Afgr.dama ? bens?nst??</td>\n",
              "      <td>17.0</td>\n",
              "    </tr>\n",
              "    <tr>\n",
              "      <th>3634466</th>\n",
              "      <td>Bye Bye Blue Bird</td>\n",
              "      <td>1999</td>\n",
              "      <td>Rosa ? R?gvu</td>\n",
              "      <td>actress</td>\n",
              "      <td>Pensionatv?rtinde</td>\n",
              "      <td>NaN</td>\n",
              "    </tr>\n",
              "  </tbody>\n",
              "</table>\n",
              "<p>3634467 rows × 6 columns</p>\n",
              "</div>"
            ],
            "text/plain": [
              "                                    title  year  ...                character     n\n",
              "0                          Closet Monster  2015  ...                  Buffy 4   NaN\n",
              "1                         Suuri illusioni  1985  ...                   Guests  22.0\n",
              "2                     Battle of the Sexes  2017  ...          Bobby Riggs Fan  10.0\n",
              "3                    Secret in Their Eyes  2015  ...          2002 Dodger Fan   NaN\n",
              "4                              Steve Jobs  2015  ...  1988 Opera House Patron   NaN\n",
              "...                                   ...   ...  ...                      ...   ...\n",
              "3634462                           Foxtrot  1988  ...                     D?ra  24.0\n",
              "3634463  Niceland (Population. 1.000.002)  2004  ...             Woman in Bus  26.0\n",
              "3634464                         Skammdegi  1985  ...            Hj?krunarkona   9.0\n",
              "3634465                      U.S.S.S.S...  2003  ...   Afgr.dama ? bens?nst??  17.0\n",
              "3634466                 Bye Bye Blue Bird  1999  ...        Pensionatv?rtinde   NaN\n",
              "\n",
              "[3634467 rows x 6 columns]"
            ]
          },
          "metadata": {},
          "execution_count": 25
        }
      ]
    },
    {
      "cell_type": "markdown",
      "metadata": {
        "id": "voOF940hxNNd"
      },
      "source": [
        "### What are the 11 most common character names in movie history?"
      ]
    },
    {
      "cell_type": "code",
      "metadata": {
        "collapsed": true,
        "jupyter": {
          "outputs_hidden": true
        },
        "colab": {
          "base_uri": "https://localhost:8080/"
        },
        "id": "oNAFmKQoxNNd",
        "outputId": "72593403-919e-4a25-eaeb-32ae1702ee70"
      },
      "source": [
        "cast['character'].value_counts()[:11].sort_values(ascending=False)"
      ],
      "execution_count": 24,
      "outputs": [
        {
          "output_type": "execute_result",
          "data": {
            "text/plain": [
              "Himself        19600\n",
              "Dancer         12096\n",
              "Extra          10953\n",
              "Reporter        8154\n",
              "Doctor          7436\n",
              "Student         7177\n",
              "Policeman       6883\n",
              "Party Guest     6742\n",
              "Nurse           6676\n",
              "Bartender       6613\n",
              "Minor Role      6255\n",
              "Name: character, dtype: int64"
            ]
          },
          "metadata": {},
          "execution_count": 24
        }
      ]
    },
    {
      "cell_type": "code",
      "metadata": {
        "collapsed": true,
        "jupyter": {
          "outputs_hidden": true
        },
        "colab": {
          "base_uri": "https://localhost:8080/",
          "height": 411
        },
        "id": "BS1e38U1xNNd",
        "outputId": "4d2bb7a4-9fc0-428a-a54e-aa100dfc1a67"
      },
      "source": [
        ""
      ],
      "execution_count": 27,
      "outputs": [
        {
          "output_type": "execute_result",
          "data": {
            "text/html": [
              "<div>\n",
              "<style scoped>\n",
              "    .dataframe tbody tr th:only-of-type {\n",
              "        vertical-align: middle;\n",
              "    }\n",
              "\n",
              "    .dataframe tbody tr th {\n",
              "        vertical-align: top;\n",
              "    }\n",
              "\n",
              "    .dataframe thead th {\n",
              "        text-align: right;\n",
              "    }\n",
              "</style>\n",
              "<table border=\"1\" class=\"dataframe\">\n",
              "  <thead>\n",
              "    <tr style=\"text-align: right;\">\n",
              "      <th></th>\n",
              "      <th>name</th>\n",
              "      <th>character</th>\n",
              "    </tr>\n",
              "  </thead>\n",
              "  <tbody>\n",
              "    <tr>\n",
              "      <th>0</th>\n",
              "      <td>Buffy #1</td>\n",
              "      <td>Buffy 4</td>\n",
              "    </tr>\n",
              "    <tr>\n",
              "      <th>1</th>\n",
              "      <td>Homo $</td>\n",
              "      <td>Guests</td>\n",
              "    </tr>\n",
              "    <tr>\n",
              "      <th>2</th>\n",
              "      <td>$hutter</td>\n",
              "      <td>Bobby Riggs Fan</td>\n",
              "    </tr>\n",
              "    <tr>\n",
              "      <th>3</th>\n",
              "      <td>$hutter</td>\n",
              "      <td>2002 Dodger Fan</td>\n",
              "    </tr>\n",
              "    <tr>\n",
              "      <th>4</th>\n",
              "      <td>$hutter</td>\n",
              "      <td>1988 Opera House Patron</td>\n",
              "    </tr>\n",
              "    <tr>\n",
              "      <th>...</th>\n",
              "      <td>...</td>\n",
              "      <td>...</td>\n",
              "    </tr>\n",
              "    <tr>\n",
              "      <th>3634462</th>\n",
              "      <td>Lilja ??risd?ttir</td>\n",
              "      <td>D?ra</td>\n",
              "    </tr>\n",
              "    <tr>\n",
              "      <th>3634463</th>\n",
              "      <td>Sigr??ur J?na ??risd?ttir</td>\n",
              "      <td>Woman in Bus</td>\n",
              "    </tr>\n",
              "    <tr>\n",
              "      <th>3634464</th>\n",
              "      <td>Dalla ??r?ard?ttir</td>\n",
              "      <td>Hj?krunarkona</td>\n",
              "    </tr>\n",
              "    <tr>\n",
              "      <th>3634465</th>\n",
              "      <td>Krist?n Andrea ??r?ard?ttir</td>\n",
              "      <td>Afgr.dama ? bens?nst??</td>\n",
              "    </tr>\n",
              "    <tr>\n",
              "      <th>3634466</th>\n",
              "      <td>Rosa ? R?gvu</td>\n",
              "      <td>Pensionatv?rtinde</td>\n",
              "    </tr>\n",
              "  </tbody>\n",
              "</table>\n",
              "<p>3634467 rows × 2 columns</p>\n",
              "</div>"
            ],
            "text/plain": [
              "                                name                character\n",
              "0                           Buffy #1                  Buffy 4\n",
              "1                             Homo $                   Guests\n",
              "2                            $hutter          Bobby Riggs Fan\n",
              "3                            $hutter          2002 Dodger Fan\n",
              "4                            $hutter  1988 Opera House Patron\n",
              "...                              ...                      ...\n",
              "3634462            Lilja ??risd?ttir                     D?ra\n",
              "3634463    Sigr??ur J?na ??risd?ttir             Woman in Bus\n",
              "3634464           Dalla ??r?ard?ttir            Hj?krunarkona\n",
              "3634465  Krist?n Andrea ??r?ard?ttir   Afgr.dama ? bens?nst??\n",
              "3634466                 Rosa ? R?gvu        Pensionatv?rtinde\n",
              "\n",
              "[3634467 rows x 2 columns]"
            ]
          },
          "metadata": {},
          "execution_count": 27
        }
      ]
    },
    {
      "cell_type": "markdown",
      "metadata": {
        "id": "rlCoz0KRxNNd"
      },
      "source": [
        "### Who are the 10 people most often credited as \"Herself\" in film history?"
      ]
    },
    {
      "cell_type": "code",
      "metadata": {
        "colab": {
          "base_uri": "https://localhost:8080/"
        },
        "id": "MAXw00d5HX_F",
        "outputId": "d8c76b08-b68a-4c1e-f458-34b1ee0e165c"
      },
      "source": [
        "herself = cast[cast[\"character\"].str.contains(\"Herself\")]\n",
        "herself[\"name\"].value_counts().head(10)"
      ],
      "execution_count": 30,
      "outputs": [
        {
          "output_type": "execute_result",
          "data": {
            "text/plain": [
              "Queen Elizabeth II                  17\n",
              "Jacqueline Kennedy                  11\n",
              "Margaret Thatcher                   10\n",
              "Joyce Brothers                      10\n",
              "Hillary Clinton                      8\n",
              "Pat Nixon                            8\n",
              "Mary Jo Pehl                         7\n",
              "Queen Elizabeth the Queen Mother     6\n",
              "Caroline Kennedy                     6\n",
              "Princess Margaret                    6\n",
              "Name: name, dtype: int64"
            ]
          },
          "metadata": {},
          "execution_count": 30
        }
      ]
    },
    {
      "cell_type": "code",
      "metadata": {
        "collapsed": true,
        "jupyter": {
          "outputs_hidden": true
        },
        "colab": {
          "base_uri": "https://localhost:8080/"
        },
        "id": "9X4dcn3lxNNd",
        "outputId": "ab18f8f3-80cf-4b7b-f3d6-cf42ba9930c9"
      },
      "source": [
        "filter=cast['character'].str.contains(\"Herself\")\n",
        "cast[filter]['name'].value_counts().head(10)"
      ],
      "execution_count": 43,
      "outputs": [
        {
          "output_type": "execute_result",
          "data": {
            "text/plain": [
              "Queen Elizabeth II                  17\n",
              "Jacqueline Kennedy                  11\n",
              "Margaret Thatcher                   10\n",
              "Joyce Brothers                      10\n",
              "Hillary Clinton                      8\n",
              "Pat Nixon                            8\n",
              "Mary Jo Pehl                         7\n",
              "Queen Elizabeth the Queen Mother     6\n",
              "Caroline Kennedy                     6\n",
              "Princess Margaret                    6\n",
              "Name: name, dtype: int64"
            ]
          },
          "metadata": {},
          "execution_count": 43
        }
      ]
    },
    {
      "cell_type": "code",
      "metadata": {
        "collapsed": true,
        "jupyter": {
          "outputs_hidden": true
        },
        "id": "Mm0RZ9qmxNNe"
      },
      "source": [
        ""
      ],
      "execution_count": 15,
      "outputs": []
    },
    {
      "cell_type": "markdown",
      "metadata": {
        "id": "FON9x3ELxNNe"
      },
      "source": [
        "### Who are the 10 people most often credited as \"Himself\" in film history?"
      ]
    },
    {
      "cell_type": "code",
      "metadata": {
        "collapsed": true,
        "jupyter": {
          "outputs_hidden": true
        },
        "colab": {
          "base_uri": "https://localhost:8080/"
        },
        "id": "xE-4j8nFxNNe",
        "outputId": "89476833-4691-445c-c28f-77540837c467"
      },
      "source": [
        "filter=cast['character'].str.contains(\"Himself\")\n",
        "cast[filter]['name'].value_counts().head(10)"
      ],
      "execution_count": 44,
      "outputs": [
        {
          "output_type": "execute_result",
          "data": {
            "text/plain": [
              "Adolf Hitler             116\n",
              "Richard Nixon             56\n",
              "John F. Kennedy           46\n",
              "Ronald Reagan             44\n",
              "Benito Mussolini          28\n",
              "Winston Churchill         28\n",
              "George W. Bush            26\n",
              "Franklin D. Roosevelt     25\n",
              "Joseph Stalin             24\n",
              "Martin Luther King        24\n",
              "Name: name, dtype: int64"
            ]
          },
          "metadata": {},
          "execution_count": 44
        }
      ]
    },
    {
      "cell_type": "code",
      "metadata": {
        "collapsed": true,
        "jupyter": {
          "outputs_hidden": true
        },
        "id": "elKNG3gYxNNe"
      },
      "source": [
        ""
      ],
      "execution_count": 15,
      "outputs": []
    },
    {
      "cell_type": "markdown",
      "metadata": {
        "id": "XtnDleMAxNNe"
      },
      "source": [
        "### Which actors or actresses appeared in the most movies in the year 1945?"
      ]
    },
    {
      "cell_type": "code",
      "metadata": {
        "collapsed": true,
        "jupyter": {
          "outputs_hidden": true
        },
        "colab": {
          "base_uri": "https://localhost:8080/"
        },
        "id": "9GceDulUxNNe",
        "outputId": "8007101e-1647-478c-8e3a-aee3c3b6abd9"
      },
      "source": [
        "filter=cast['year'] == 1945\n",
        "cast[filter]['name'].value_counts().head(10)"
      ],
      "execution_count": 45,
      "outputs": [
        {
          "output_type": "execute_result",
          "data": {
            "text/plain": [
              "Emmett Vogan       39\n",
              "Sam (II) Harris    32\n",
              "Harold Miller      29\n",
              "Bess Flowers       29\n",
              "Nolan Leary        27\n",
              "Frank O'Connor     27\n",
              "Franklyn Farnum    26\n",
              "Larry Steers       25\n",
              "Pierre Watkin      24\n",
              "Herman Hack        24\n",
              "Name: name, dtype: int64"
            ]
          },
          "metadata": {},
          "execution_count": 45
        }
      ]
    },
    {
      "cell_type": "code",
      "metadata": {
        "collapsed": true,
        "jupyter": {
          "outputs_hidden": true
        },
        "id": "P1qYS5--xNNe"
      },
      "source": [
        ""
      ],
      "execution_count": 15,
      "outputs": []
    },
    {
      "cell_type": "markdown",
      "metadata": {
        "id": "pwPx1CxqxNNe"
      },
      "source": [
        "### Which actors or actresses appeared in the most movies in the year 1985?"
      ]
    },
    {
      "cell_type": "code",
      "metadata": {
        "collapsed": true,
        "jupyter": {
          "outputs_hidden": true
        },
        "colab": {
          "base_uri": "https://localhost:8080/"
        },
        "id": "-jQJqjJkxNNe",
        "outputId": "63ae01b3-3b22-400c-e755-ed726fd4ceeb"
      },
      "source": [
        "filter=cast['year'] == 1985\n",
        "cast[filter]['name'].value_counts().head(10)"
      ],
      "execution_count": 46,
      "outputs": [
        {
          "output_type": "execute_result",
          "data": {
            "text/plain": [
              "Mammootty        22\n",
              "Shakti Kapoor    21\n",
              "Sukumari         20\n",
              "Aruna Irani      15\n",
              "Raj Babbar       15\n",
              "Mohanlal         15\n",
              "Lou Scheimer     15\n",
              "Rajesh Khanna    13\n",
              "Asrani           13\n",
              "Om Shivpuri      13\n",
              "Name: name, dtype: int64"
            ]
          },
          "metadata": {},
          "execution_count": 46
        }
      ]
    },
    {
      "cell_type": "code",
      "metadata": {
        "collapsed": true,
        "jupyter": {
          "outputs_hidden": true
        },
        "id": "L80zlE1oxNNf"
      },
      "source": [
        ""
      ],
      "execution_count": 15,
      "outputs": []
    },
    {
      "cell_type": "markdown",
      "metadata": {
        "id": "lbOXCCr3xNNf"
      },
      "source": [
        "### How many roles \"Mammootty\" has played in each year of his career."
      ]
    },
    {
      "cell_type": "code",
      "metadata": {
        "collapsed": true,
        "jupyter": {
          "outputs_hidden": true
        },
        "colab": {
          "base_uri": "https://localhost:8080/"
        },
        "id": "gK6X7h5BxNNf",
        "outputId": "61ac1005-76ca-4fea-e98d-d06e00b5498d"
      },
      "source": [
        "filter=cast['name'].str.contains(\"Mammootty\")\n",
        "cast[filter]['year'].value_counts()"
      ],
      "execution_count": 50,
      "outputs": [
        {
          "output_type": "execute_result",
          "data": {
            "text/plain": [
              "1985    22\n",
              "1983    18\n",
              "1986    18\n",
              "1984    16\n",
              "1990    15\n",
              "2009    12\n",
              "1989    10\n",
              "2008     9\n",
              "1987     9\n",
              "2010     9\n",
              "2006     8\n",
              "2004     8\n",
              "2007     7\n",
              "2011     7\n",
              "1982     7\n",
              "2012     7\n",
              "1988     7\n",
              "2000     7\n",
              "1991     6\n",
              "2005     6\n",
              "2014     6\n",
              "2015     6\n",
              "2013     5\n",
              "1995     5\n",
              "1994     5\n",
              "1993     5\n",
              "1998     4\n",
              "1999     4\n",
              "2016     4\n",
              "1992     3\n",
              "1996     3\n",
              "2001     3\n",
              "2002     3\n",
              "1981     3\n",
              "1997     2\n",
              "1980     2\n",
              "2003     2\n",
              "2017     1\n",
              "1971     1\n",
              "Name: year, dtype: int64"
            ]
          },
          "metadata": {},
          "execution_count": 50
        }
      ]
    },
    {
      "cell_type": "code",
      "metadata": {
        "collapsed": true,
        "jupyter": {
          "outputs_hidden": true
        },
        "id": "vf3vgtnUxNNf"
      },
      "source": [
        ""
      ],
      "execution_count": 15,
      "outputs": []
    },
    {
      "cell_type": "markdown",
      "metadata": {
        "id": "-nCtrYBgxNNf"
      },
      "source": [
        "### What are the 10 most frequent roles that start with the phrase \"Patron in\"?"
      ]
    },
    {
      "cell_type": "code",
      "metadata": {
        "collapsed": true,
        "jupyter": {
          "outputs_hidden": true
        },
        "colab": {
          "base_uri": "https://localhost:8080/"
        },
        "id": "F0NiT-J-xNNf",
        "outputId": "6a712632-c89c-4ca2-c971-0a6a89978c0f"
      },
      "source": [
        "filter=cast['character'].str.contains(\"Patron in\")\n",
        "cast[filter]['character'].value_counts().head(10)"
      ],
      "execution_count": 53,
      "outputs": [
        {
          "output_type": "execute_result",
          "data": {
            "text/plain": [
              "Patron in Frisky Rabbit         16\n",
              "Patron in Chinese Restaurant     9\n",
              "Patron in the Coffee House       9\n",
              "Patron in Billiard Parlor        5\n",
              "Patron in restaurant             4\n",
              "Patron in Bar                    4\n",
              "Patron in cabaret                3\n",
              "Patron in Restaurant             3\n",
              "Patron in Club                   3\n",
              "Patron in booth                  2\n",
              "Name: character, dtype: int64"
            ]
          },
          "metadata": {},
          "execution_count": 53
        }
      ]
    },
    {
      "cell_type": "code",
      "metadata": {
        "collapsed": true,
        "jupyter": {
          "outputs_hidden": true
        },
        "id": "RKZ9bkZDxNNf"
      },
      "source": [
        ""
      ],
      "execution_count": 15,
      "outputs": []
    },
    {
      "cell_type": "markdown",
      "metadata": {
        "id": "bw_0YEbexNNf"
      },
      "source": [
        "### What are the 10 most frequent roles that start with the word \"Science\"?"
      ]
    },
    {
      "cell_type": "code",
      "metadata": {
        "collapsed": true,
        "jupyter": {
          "outputs_hidden": true
        },
        "colab": {
          "base_uri": "https://localhost:8080/"
        },
        "id": "t7WMjNe3xNNf",
        "outputId": "370cc1e4-b76e-45c9-ec53-75411ce88615"
      },
      "source": [
        "filter=cast['character'].str.contains(\"Science\")\n",
        "cast[filter]['character'].value_counts().head(10)"
      ],
      "execution_count": 54,
      "outputs": [
        {
          "output_type": "execute_result",
          "data": {
            "text/plain": [
              "Science Teacher                            60\n",
              "Science Fair Student                        9\n",
              "The Science Fair Contestants & Families     9\n",
              "Science Student                             9\n",
              "Science Fair Judge                          6\n",
              "Science Reporter                            5\n",
              "Science Club Member                         5\n",
              "Science Kid                                 5\n",
              "Science Promo Cadet                         5\n",
              "Science                                     4\n",
              "Name: character, dtype: int64"
            ]
          },
          "metadata": {},
          "execution_count": 54
        }
      ]
    },
    {
      "cell_type": "code",
      "metadata": {
        "collapsed": true,
        "jupyter": {
          "outputs_hidden": true
        },
        "id": "UuPXhkbHxNNg"
      },
      "source": [
        ""
      ],
      "execution_count": 15,
      "outputs": []
    },
    {
      "cell_type": "markdown",
      "metadata": {
        "id": "kt5C21sexNNg"
      },
      "source": [
        "### Count number of n-values of the roles that Judi Dench has played over her career."
      ]
    },
    {
      "cell_type": "code",
      "metadata": {
        "collapsed": true,
        "jupyter": {
          "outputs_hidden": true
        },
        "colab": {
          "base_uri": "https://localhost:8080/"
        },
        "id": "pp1LumpJxNNg",
        "outputId": "c3d1821d-79bd-4d71-826d-8b28c3938a87"
      },
      "source": [
        "filter=cast['name'].str.contains(\"Judi Dench\")\n",
        "cast[filter]['n'].value_counts().head(10)"
      ],
      "execution_count": 55,
      "outputs": [
        {
          "output_type": "execute_result",
          "data": {
            "text/plain": [
              "3.0     6\n",
              "1.0     6\n",
              "2.0     6\n",
              "7.0     4\n",
              "4.0     4\n",
              "6.0     4\n",
              "12.0    3\n",
              "5.0     2\n",
              "18.0    2\n",
              "16.0    2\n",
              "Name: n, dtype: int64"
            ]
          },
          "metadata": {},
          "execution_count": 55
        }
      ]
    },
    {
      "cell_type": "code",
      "metadata": {
        "collapsed": true,
        "jupyter": {
          "outputs_hidden": true
        },
        "id": "5WzQYqJcxNNg"
      },
      "source": [
        ""
      ],
      "execution_count": 15,
      "outputs": []
    },
    {
      "cell_type": "markdown",
      "metadata": {
        "id": "X-2PQ9ykxNNg"
      },
      "source": [
        "### Count number of n-values of Cary Grant's roles through his career."
      ]
    },
    {
      "cell_type": "code",
      "metadata": {
        "collapsed": true,
        "jupyter": {
          "outputs_hidden": true
        },
        "colab": {
          "base_uri": "https://localhost:8080/"
        },
        "id": "QXI4ZabIxNNg",
        "outputId": "4f867717-d6fe-462a-bad6-1d704facbe92"
      },
      "source": [
        "filter=cast['name'].str.contains(\"Cary Grant\")\n",
        "cast[filter]['n'].value_counts().head(10)"
      ],
      "execution_count": 56,
      "outputs": [
        {
          "output_type": "execute_result",
          "data": {
            "text/plain": [
              "1.0     46\n",
              "2.0     20\n",
              "9.0      2\n",
              "3.0      2\n",
              "10.0     2\n",
              "5.0      1\n",
              "8.0      1\n",
              "4.0      1\n",
              "Name: n, dtype: int64"
            ]
          },
          "metadata": {},
          "execution_count": 56
        }
      ]
    },
    {
      "cell_type": "code",
      "metadata": {
        "collapsed": true,
        "jupyter": {
          "outputs_hidden": true
        },
        "id": "OM07w8OuxNNg"
      },
      "source": [
        ""
      ],
      "execution_count": 15,
      "outputs": []
    },
    {
      "cell_type": "markdown",
      "metadata": {
        "id": "9_dsq5EGxNNg"
      },
      "source": [
        "### Count number of n-value of the roles that Sidney Poitier has acted over the years."
      ]
    },
    {
      "cell_type": "code",
      "metadata": {
        "collapsed": true,
        "jupyter": {
          "outputs_hidden": true
        },
        "colab": {
          "base_uri": "https://localhost:8080/"
        },
        "id": "cdHpSx-1xNNg",
        "outputId": "1ab1057c-410d-4ac3-f2d7-a0c9ba106506"
      },
      "source": [
        "filter=cast['name'].str.contains(\"Sidney Poitier\")\n",
        "cast[filter]['n'].value_counts().head(10)"
      ],
      "execution_count": 57,
      "outputs": [
        {
          "output_type": "execute_result",
          "data": {
            "text/plain": [
              "1.0     21\n",
              "2.0      8\n",
              "3.0      6\n",
              "4.0      3\n",
              "21.0     1\n",
              "13.0     1\n",
              "5.0      1\n",
              "10.0     1\n",
              "Name: n, dtype: int64"
            ]
          },
          "metadata": {},
          "execution_count": 57
        }
      ]
    },
    {
      "cell_type": "code",
      "metadata": {
        "collapsed": true,
        "jupyter": {
          "outputs_hidden": true
        },
        "id": "0piHraYTxNNg"
      },
      "source": [
        ""
      ],
      "execution_count": 15,
      "outputs": []
    },
    {
      "cell_type": "markdown",
      "metadata": {
        "id": "a4It2ie1xNNg"
      },
      "source": [
        "### How many leading (n=1) roles were available to actors, and how many to actresses, in the 1950s?"
      ]
    },
    {
      "cell_type": "code",
      "metadata": {
        "collapsed": true,
        "jupyter": {
          "outputs_hidden": true
        },
        "colab": {
          "base_uri": "https://localhost:8080/",
          "height": 411
        },
        "id": "yOUQY6YgxNNh",
        "outputId": "901cd177-a088-4fd7-d369-c4dc1d3c5f93"
      },
      "source": [
        "q=cast[cast['n']==1]\n",
        "q=q[q['year'].between(1950,1959)]\n",
        "q"
      ],
      "execution_count": 68,
      "outputs": [
        {
          "output_type": "execute_result",
          "data": {
            "text/html": [
              "<div>\n",
              "<style scoped>\n",
              "    .dataframe tbody tr th:only-of-type {\n",
              "        vertical-align: middle;\n",
              "    }\n",
              "\n",
              "    .dataframe tbody tr th {\n",
              "        vertical-align: top;\n",
              "    }\n",
              "\n",
              "    .dataframe thead th {\n",
              "        text-align: right;\n",
              "    }\n",
              "</style>\n",
              "<table border=\"1\" class=\"dataframe\">\n",
              "  <thead>\n",
              "    <tr style=\"text-align: right;\">\n",
              "      <th></th>\n",
              "      <th>title</th>\n",
              "      <th>year</th>\n",
              "      <th>name</th>\n",
              "      <th>type</th>\n",
              "      <th>character</th>\n",
              "      <th>n</th>\n",
              "    </tr>\n",
              "  </thead>\n",
              "  <tbody>\n",
              "    <tr>\n",
              "      <th>1886</th>\n",
              "      <td>Abbott and Costello Go to Mars</td>\n",
              "      <td>1953</td>\n",
              "      <td>Bud Abbott</td>\n",
              "      <td>actor</td>\n",
              "      <td>Lester</td>\n",
              "      <td>1.0</td>\n",
              "    </tr>\n",
              "    <tr>\n",
              "      <th>1887</th>\n",
              "      <td>Abbott and Costello in the Foreign Legion</td>\n",
              "      <td>1950</td>\n",
              "      <td>Bud Abbott</td>\n",
              "      <td>actor</td>\n",
              "      <td>Bud Jones</td>\n",
              "      <td>1.0</td>\n",
              "    </tr>\n",
              "    <tr>\n",
              "      <th>1888</th>\n",
              "      <td>Abbott and Costello Meet Captain Kidd</td>\n",
              "      <td>1952</td>\n",
              "      <td>Bud Abbott</td>\n",
              "      <td>actor</td>\n",
              "      <td>Rocky Stonebridge</td>\n",
              "      <td>1.0</td>\n",
              "    </tr>\n",
              "    <tr>\n",
              "      <th>1889</th>\n",
              "      <td>Abbott and Costello Meet Dr. Jekyll and Mr. Hyde</td>\n",
              "      <td>1953</td>\n",
              "      <td>Bud Abbott</td>\n",
              "      <td>actor</td>\n",
              "      <td>Slim</td>\n",
              "      <td>1.0</td>\n",
              "    </tr>\n",
              "    <tr>\n",
              "      <th>1890</th>\n",
              "      <td>Abbott and Costello Meet the Invisible Man</td>\n",
              "      <td>1951</td>\n",
              "      <td>Bud Abbott</td>\n",
              "      <td>actor</td>\n",
              "      <td>Bud Alexander</td>\n",
              "      <td>1.0</td>\n",
              "    </tr>\n",
              "    <tr>\n",
              "      <th>...</th>\n",
              "      <td>...</td>\n",
              "      <td>...</td>\n",
              "      <td>...</td>\n",
              "      <td>...</td>\n",
              "      <td>...</td>\n",
              "      <td>...</td>\n",
              "    </tr>\n",
              "    <tr>\n",
              "      <th>3630010</th>\n",
              "      <td>Mit siebzehn beginnt das Leben</td>\n",
              "      <td>1953</td>\n",
              "      <td>Sonja Ziemann</td>\n",
              "      <td>actress</td>\n",
              "      <td>Madelien de Jeu</td>\n",
              "      <td>1.0</td>\n",
              "    </tr>\n",
              "    <tr>\n",
              "      <th>3632046</th>\n",
              "      <td>El vampiro negro</td>\n",
              "      <td>1953</td>\n",
              "      <td>Olga Zubarry</td>\n",
              "      <td>actress</td>\n",
              "      <td>Amalia</td>\n",
              "      <td>1.0</td>\n",
              "    </tr>\n",
              "    <tr>\n",
              "      <th>3632047</th>\n",
              "      <td>El vampiro negro</td>\n",
              "      <td>1953</td>\n",
              "      <td>Olga Zubarry</td>\n",
              "      <td>actress</td>\n",
              "      <td>Rita</td>\n",
              "      <td>1.0</td>\n",
              "    </tr>\n",
              "    <tr>\n",
              "      <th>3632053</th>\n",
              "      <td>Marianela</td>\n",
              "      <td>1955</td>\n",
              "      <td>Olga Zubarry</td>\n",
              "      <td>actress</td>\n",
              "      <td>Marianela</td>\n",
              "      <td>1.0</td>\n",
              "    </tr>\n",
              "    <tr>\n",
              "      <th>3632054</th>\n",
              "      <td>Valentina</td>\n",
              "      <td>1950</td>\n",
              "      <td>Olga Zubarry</td>\n",
              "      <td>actress</td>\n",
              "      <td>Valentina Gonz?lez Garc?a</td>\n",
              "      <td>1.0</td>\n",
              "    </tr>\n",
              "  </tbody>\n",
              "</table>\n",
              "<p>9581 rows × 6 columns</p>\n",
              "</div>"
            ],
            "text/plain": [
              "                                                    title  ...    n\n",
              "1886                       Abbott and Costello Go to Mars  ...  1.0\n",
              "1887            Abbott and Costello in the Foreign Legion  ...  1.0\n",
              "1888                Abbott and Costello Meet Captain Kidd  ...  1.0\n",
              "1889     Abbott and Costello Meet Dr. Jekyll and Mr. Hyde  ...  1.0\n",
              "1890           Abbott and Costello Meet the Invisible Man  ...  1.0\n",
              "...                                                   ...  ...  ...\n",
              "3630010                    Mit siebzehn beginnt das Leben  ...  1.0\n",
              "3632046                                  El vampiro negro  ...  1.0\n",
              "3632047                                  El vampiro negro  ...  1.0\n",
              "3632053                                         Marianela  ...  1.0\n",
              "3632054                                         Valentina  ...  1.0\n",
              "\n",
              "[9581 rows x 6 columns]"
            ]
          },
          "metadata": {},
          "execution_count": 68
        }
      ]
    },
    {
      "cell_type": "code",
      "metadata": {
        "collapsed": true,
        "jupyter": {
          "outputs_hidden": true
        },
        "id": "T4RAq4rmxNNh"
      },
      "source": [
        ""
      ],
      "execution_count": 15,
      "outputs": []
    },
    {
      "cell_type": "markdown",
      "metadata": {
        "id": "0XEb2GpvxNNh"
      },
      "source": [
        "### How many supporting (n=2) roles were available to actors, and how many to actresses, in the 1950s?"
      ]
    },
    {
      "cell_type": "code",
      "metadata": {
        "collapsed": true,
        "jupyter": {
          "outputs_hidden": true
        },
        "colab": {
          "base_uri": "https://localhost:8080/",
          "height": 411
        },
        "id": "KGO6rI5TxNNh",
        "outputId": "63005a46-0577-43df-b560-a5300868931f"
      },
      "source": [
        "q=cast[cast['n']==2]\n",
        "q=q[q['year'].between(1950,1959)]\n",
        "q"
      ],
      "execution_count": 69,
      "outputs": [
        {
          "output_type": "execute_result",
          "data": {
            "text/html": [
              "<div>\n",
              "<style scoped>\n",
              "    .dataframe tbody tr th:only-of-type {\n",
              "        vertical-align: middle;\n",
              "    }\n",
              "\n",
              "    .dataframe tbody tr th {\n",
              "        vertical-align: top;\n",
              "    }\n",
              "\n",
              "    .dataframe thead th {\n",
              "        text-align: right;\n",
              "    }\n",
              "</style>\n",
              "<table border=\"1\" class=\"dataframe\">\n",
              "  <thead>\n",
              "    <tr style=\"text-align: right;\">\n",
              "      <th></th>\n",
              "      <th>title</th>\n",
              "      <th>year</th>\n",
              "      <th>name</th>\n",
              "      <th>type</th>\n",
              "      <th>character</th>\n",
              "      <th>n</th>\n",
              "    </tr>\n",
              "  </thead>\n",
              "  <tbody>\n",
              "    <tr>\n",
              "      <th>1128</th>\n",
              "      <td>Bashi-Achuki</td>\n",
              "      <td>1956</td>\n",
              "      <td>Dodo Abashidze</td>\n",
              "      <td>actor</td>\n",
              "      <td>Abdoushahili</td>\n",
              "      <td>2.0</td>\n",
              "    </tr>\n",
              "    <tr>\n",
              "      <th>2149</th>\n",
              "      <td>The Invisible Boy</td>\n",
              "      <td>1957</td>\n",
              "      <td>Philip Abbott</td>\n",
              "      <td>actor</td>\n",
              "      <td>Dr. Tom Merrinoe</td>\n",
              "      <td>2.0</td>\n",
              "    </tr>\n",
              "    <tr>\n",
              "      <th>7119</th>\n",
              "      <td>A los cuatro vientos</td>\n",
              "      <td>1955</td>\n",
              "      <td>Miguel Aceves Mej?a</td>\n",
              "      <td>actor</td>\n",
              "      <td>Pablo G?lvez</td>\n",
              "      <td>2.0</td>\n",
              "    </tr>\n",
              "    <tr>\n",
              "      <th>7124</th>\n",
              "      <td>Cuatro copas</td>\n",
              "      <td>1958</td>\n",
              "      <td>Miguel Aceves Mej?a</td>\n",
              "      <td>actor</td>\n",
              "      <td>Miguel</td>\n",
              "      <td>2.0</td>\n",
              "    </tr>\n",
              "    <tr>\n",
              "      <th>9948</th>\n",
              "      <td>Private's Progress</td>\n",
              "      <td>1956</td>\n",
              "      <td>Ronald Adam</td>\n",
              "      <td>actor</td>\n",
              "      <td>Doctor at Medical</td>\n",
              "      <td>2.0</td>\n",
              "    </tr>\n",
              "    <tr>\n",
              "      <th>...</th>\n",
              "      <td>...</td>\n",
              "      <td>...</td>\n",
              "      <td>...</td>\n",
              "      <td>...</td>\n",
              "      <td>...</td>\n",
              "      <td>...</td>\n",
              "    </tr>\n",
              "    <tr>\n",
              "      <th>3631897</th>\n",
              "      <td>Karagiozis, o adikimenos tis zois</td>\n",
              "      <td>1959</td>\n",
              "      <td>Voula Zouboulaki</td>\n",
              "      <td>actress</td>\n",
              "      <td>Marika</td>\n",
              "      <td>2.0</td>\n",
              "    </tr>\n",
              "    <tr>\n",
              "      <th>3631898</th>\n",
              "      <td>Mono gia mia nyhta</td>\n",
              "      <td>1958</td>\n",
              "      <td>Voula Zouboulaki</td>\n",
              "      <td>actress</td>\n",
              "      <td>Anna</td>\n",
              "      <td>2.0</td>\n",
              "    </tr>\n",
              "    <tr>\n",
              "      <th>3632044</th>\n",
              "      <td>El honorable inquilino</td>\n",
              "      <td>1951</td>\n",
              "      <td>Olga Zubarry</td>\n",
              "      <td>actress</td>\n",
              "      <td>Ana Mar?a</td>\n",
              "      <td>2.0</td>\n",
              "    </tr>\n",
              "    <tr>\n",
              "      <th>3633374</th>\n",
              "      <td>El puma</td>\n",
              "      <td>1959</td>\n",
              "      <td>Sof?a ?lvarez</td>\n",
              "      <td>actress</td>\n",
              "      <td>Norte?a</td>\n",
              "      <td>2.0</td>\n",
              "    </tr>\n",
              "    <tr>\n",
              "      <th>3634392</th>\n",
              "      <td>Akdeniz korsanlari</td>\n",
              "      <td>1950</td>\n",
              "      <td>Muazzez ?lkerer</td>\n",
              "      <td>actress</td>\n",
              "      <td>Maria</td>\n",
              "      <td>2.0</td>\n",
              "    </tr>\n",
              "  </tbody>\n",
              "</table>\n",
              "<p>9120 rows × 6 columns</p>\n",
              "</div>"
            ],
            "text/plain": [
              "                                     title  year  ...          character    n\n",
              "1128                          Bashi-Achuki  1956  ...       Abdoushahili  2.0\n",
              "2149                     The Invisible Boy  1957  ...   Dr. Tom Merrinoe  2.0\n",
              "7119                  A los cuatro vientos  1955  ...       Pablo G?lvez  2.0\n",
              "7124                          Cuatro copas  1958  ...             Miguel  2.0\n",
              "9948                    Private's Progress  1956  ...  Doctor at Medical  2.0\n",
              "...                                    ...   ...  ...                ...  ...\n",
              "3631897  Karagiozis, o adikimenos tis zois  1959  ...             Marika  2.0\n",
              "3631898                 Mono gia mia nyhta  1958  ...               Anna  2.0\n",
              "3632044             El honorable inquilino  1951  ...          Ana Mar?a  2.0\n",
              "3633374                            El puma  1959  ...            Norte?a  2.0\n",
              "3634392                 Akdeniz korsanlari  1950  ...              Maria  2.0\n",
              "\n",
              "[9120 rows x 6 columns]"
            ]
          },
          "metadata": {},
          "execution_count": 69
        }
      ]
    },
    {
      "cell_type": "code",
      "metadata": {
        "collapsed": true,
        "jupyter": {
          "outputs_hidden": true
        },
        "id": "-GdQk16xxNNh"
      },
      "source": [
        ""
      ],
      "execution_count": 15,
      "outputs": []
    }
  ]
}