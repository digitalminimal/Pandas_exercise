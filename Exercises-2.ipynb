{
  "nbformat": 4,
  "nbformat_minor": 0,
  "metadata": {
    "kernelspec": {
      "display_name": "Python 3",
      "language": "python",
      "name": "python3"
    },
    "language_info": {
      "codemirror_mode": {
        "name": "ipython",
        "version": 3
      },
      "file_extension": ".py",
      "mimetype": "text/x-python",
      "name": "python",
      "nbconvert_exporter": "python",
      "pygments_lexer": "ipython3",
      "version": "3.7.9"
    },
    "colab": {
      "name": "Exercises-2.ipynb",
      "provenance": []
    }
  },
  "cells": [
    {
      "cell_type": "code",
      "metadata": {
        "jupyter": {
          "outputs_hidden": false
        },
        "id": "W5nVxd5DxNNY"
      },
      "source": [
        "import pandas as pd"
      ],
      "execution_count": 3,
      "outputs": []
    },
    {
      "cell_type": "markdown",
      "metadata": {
        "id": "btqS9UKBxNNZ"
      },
      "source": [
        "### Download the data and load it to Pandas. \n",
        "\n",
        "You can find them [here](https://drive.google.com/file/d/1NY6cmF9Shjw-dD7BD6bNmfcIVz-kQcFR/view?usp=sharing)."
      ]
    },
    {
      "cell_type": "code",
      "metadata": {
        "jupyter": {
          "outputs_hidden": false
        },
        "id": "ATNEmF4CxNNa",
        "outputId": "6f7f4fe4-771e-4c34-a24e-190ce9f080f8",
        "colab": {
          "base_uri": "https://localhost:8080/",
          "height": 206
        }
      },
      "source": [
        "titles = pd.read_csv('titles.csv', index_col=None)\n",
        "titles.head()"
      ],
      "execution_count": 4,
      "outputs": [
        {
          "output_type": "execute_result",
          "data": {
            "text/html": [
              "<div>\n",
              "<style scoped>\n",
              "    .dataframe tbody tr th:only-of-type {\n",
              "        vertical-align: middle;\n",
              "    }\n",
              "\n",
              "    .dataframe tbody tr th {\n",
              "        vertical-align: top;\n",
              "    }\n",
              "\n",
              "    .dataframe thead th {\n",
              "        text-align: right;\n",
              "    }\n",
              "</style>\n",
              "<table border=\"1\" class=\"dataframe\">\n",
              "  <thead>\n",
              "    <tr style=\"text-align: right;\">\n",
              "      <th></th>\n",
              "      <th>title</th>\n",
              "      <th>year</th>\n",
              "    </tr>\n",
              "  </thead>\n",
              "  <tbody>\n",
              "    <tr>\n",
              "      <th>0</th>\n",
              "      <td>The Rising Son</td>\n",
              "      <td>1990</td>\n",
              "    </tr>\n",
              "    <tr>\n",
              "      <th>1</th>\n",
              "      <td>The Thousand Plane Raid</td>\n",
              "      <td>1969</td>\n",
              "    </tr>\n",
              "    <tr>\n",
              "      <th>2</th>\n",
              "      <td>Crucea de piatra</td>\n",
              "      <td>1993</td>\n",
              "    </tr>\n",
              "    <tr>\n",
              "      <th>3</th>\n",
              "      <td>Country</td>\n",
              "      <td>2000</td>\n",
              "    </tr>\n",
              "    <tr>\n",
              "      <th>4</th>\n",
              "      <td>Gaiking II</td>\n",
              "      <td>2011</td>\n",
              "    </tr>\n",
              "  </tbody>\n",
              "</table>\n",
              "</div>"
            ],
            "text/plain": [
              "                     title  year\n",
              "0           The Rising Son  1990\n",
              "1  The Thousand Plane Raid  1969\n",
              "2         Crucea de piatra  1993\n",
              "3                  Country  2000\n",
              "4               Gaiking II  2011"
            ]
          },
          "metadata": {},
          "execution_count": 4
        }
      ]
    },
    {
      "cell_type": "code",
      "metadata": {
        "jupyter": {
          "outputs_hidden": false
        },
        "id": "NxyGWRCBxNNa",
        "outputId": "bf9afadc-4269-451c-87d0-f4cf42103d23",
        "colab": {
          "base_uri": "https://localhost:8080/",
          "height": 206
        }
      },
      "source": [
        "cast = pd.read_csv('cast.csv', index_col=None)\n",
        "cast.head()"
      ],
      "execution_count": 5,
      "outputs": [
        {
          "output_type": "execute_result",
          "data": {
            "text/html": [
              "<div>\n",
              "<style scoped>\n",
              "    .dataframe tbody tr th:only-of-type {\n",
              "        vertical-align: middle;\n",
              "    }\n",
              "\n",
              "    .dataframe tbody tr th {\n",
              "        vertical-align: top;\n",
              "    }\n",
              "\n",
              "    .dataframe thead th {\n",
              "        text-align: right;\n",
              "    }\n",
              "</style>\n",
              "<table border=\"1\" class=\"dataframe\">\n",
              "  <thead>\n",
              "    <tr style=\"text-align: right;\">\n",
              "      <th></th>\n",
              "      <th>title</th>\n",
              "      <th>year</th>\n",
              "      <th>name</th>\n",
              "      <th>type</th>\n",
              "      <th>character</th>\n",
              "      <th>n</th>\n",
              "    </tr>\n",
              "  </thead>\n",
              "  <tbody>\n",
              "    <tr>\n",
              "      <th>0</th>\n",
              "      <td>Closet Monster</td>\n",
              "      <td>2015</td>\n",
              "      <td>Buffy #1</td>\n",
              "      <td>actor</td>\n",
              "      <td>Buffy 4</td>\n",
              "      <td>NaN</td>\n",
              "    </tr>\n",
              "    <tr>\n",
              "      <th>1</th>\n",
              "      <td>Suuri illusioni</td>\n",
              "      <td>1985</td>\n",
              "      <td>Homo $</td>\n",
              "      <td>actor</td>\n",
              "      <td>Guests</td>\n",
              "      <td>22.0</td>\n",
              "    </tr>\n",
              "    <tr>\n",
              "      <th>2</th>\n",
              "      <td>Battle of the Sexes</td>\n",
              "      <td>2017</td>\n",
              "      <td>$hutter</td>\n",
              "      <td>actor</td>\n",
              "      <td>Bobby Riggs Fan</td>\n",
              "      <td>10.0</td>\n",
              "    </tr>\n",
              "    <tr>\n",
              "      <th>3</th>\n",
              "      <td>Secret in Their Eyes</td>\n",
              "      <td>2015</td>\n",
              "      <td>$hutter</td>\n",
              "      <td>actor</td>\n",
              "      <td>2002 Dodger Fan</td>\n",
              "      <td>NaN</td>\n",
              "    </tr>\n",
              "    <tr>\n",
              "      <th>4</th>\n",
              "      <td>Steve Jobs</td>\n",
              "      <td>2015</td>\n",
              "      <td>$hutter</td>\n",
              "      <td>actor</td>\n",
              "      <td>1988 Opera House Patron</td>\n",
              "      <td>NaN</td>\n",
              "    </tr>\n",
              "  </tbody>\n",
              "</table>\n",
              "</div>"
            ],
            "text/plain": [
              "                  title  year      name   type                character     n\n",
              "0        Closet Monster  2015  Buffy #1  actor                  Buffy 4   NaN\n",
              "1       Suuri illusioni  1985    Homo $  actor                   Guests  22.0\n",
              "2   Battle of the Sexes  2017   $hutter  actor          Bobby Riggs Fan  10.0\n",
              "3  Secret in Their Eyes  2015   $hutter  actor          2002 Dodger Fan   NaN\n",
              "4            Steve Jobs  2015   $hutter  actor  1988 Opera House Patron   NaN"
            ]
          },
          "metadata": {},
          "execution_count": 5
        }
      ]
    },
    {
      "cell_type": "markdown",
      "metadata": {
        "id": "qRjJDtv7xNNa"
      },
      "source": [
        "### What are the ten most common movie names of all time?"
      ]
    },
    {
      "cell_type": "code",
      "metadata": {
        "id": "6jHo6WYc4Bl1",
        "outputId": "931576b0-a4b7-4833-c18f-47b5eb7d4250",
        "colab": {
          "base_uri": "https://localhost:8080/"
        }
      },
      "source": [
        "titles['title'].value_counts()[:10].sort_values(ascending=False)"
      ],
      "execution_count": 48,
      "outputs": [
        {
          "output_type": "execute_result",
          "data": {
            "text/plain": [
              "Hamlet                  18\n",
              "Carmen                  16\n",
              "Macbeth                 15\n",
              "Maya                    12\n",
              "The Outsider            12\n",
              "Freedom                 11\n",
              "The Three Musketeers    11\n",
              "Temptation              11\n",
              "Othello                 11\n",
              "Kismet                  11\n",
              "Name: title, dtype: int64"
            ]
          },
          "metadata": {},
          "execution_count": 48
        }
      ]
    },
    {
      "cell_type": "code",
      "metadata": {
        "collapsed": true,
        "jupyter": {
          "outputs_hidden": true
        },
        "id": "lDEZk_hDxNNb",
        "outputId": "37ef6d3d-806d-4672-9c54-f07cea4bbc76",
        "colab": {
          "base_uri": "https://localhost:8080/"
        }
      },
      "source": [
        "\n",
        "n = 10\n",
        "titles['title'].value_counts()[:n].index.tolist()"
      ],
      "execution_count": 45,
      "outputs": [
        {
          "output_type": "execute_result",
          "data": {
            "text/plain": [
              "['Hamlet',\n",
              " 'Carmen',\n",
              " 'Macbeth',\n",
              " 'The Outsider',\n",
              " 'Maya',\n",
              " 'Kismet',\n",
              " 'Othello',\n",
              " 'Temptation',\n",
              " 'The Three Musketeers',\n",
              " 'Freedom']"
            ]
          },
          "metadata": {},
          "execution_count": 45
        }
      ]
    },
    {
      "cell_type": "code",
      "metadata": {
        "collapsed": true,
        "jupyter": {
          "outputs_hidden": true
        },
        "id": "HiTYO6raxNNb"
      },
      "source": [
        ""
      ],
      "execution_count": null,
      "outputs": []
    },
    {
      "cell_type": "markdown",
      "metadata": {
        "id": "T13Jjw3uxNNb"
      },
      "source": [
        "### Which three years in the 1930s saw the most films released?"
      ]
    },
    {
      "cell_type": "code",
      "metadata": {
        "collapsed": true,
        "jupyter": {
          "outputs_hidden": true
        },
        "id": "VEE1SYnqxNNb",
        "outputId": "0e82b1e8-d0d0-4f25-f6a4-446710cd0073",
        "colab": {
          "base_uri": "https://localhost:8080/"
        }
      },
      "source": [
        "q = titles[titles[\"year\"].between(1930,1939)]\n",
        "q[\"year\"].value_counts().sort_index(ascending=False).head(3)"
      ],
      "execution_count": 57,
      "outputs": [
        {
          "output_type": "execute_result",
          "data": {
            "text/plain": [
              "1939    1078\n",
              "1938    1129\n",
              "1937    1196\n",
              "Name: year, dtype: int64"
            ]
          },
          "metadata": {},
          "execution_count": 57
        }
      ]
    },
    {
      "cell_type": "code",
      "metadata": {
        "collapsed": true,
        "jupyter": {
          "outputs_hidden": true
        },
        "id": "lRImC1UfxNNb"
      },
      "source": [
        ""
      ],
      "execution_count": null,
      "outputs": []
    },
    {
      "cell_type": "markdown",
      "metadata": {
        "id": "T89XVf3WxNNb"
      },
      "source": [
        "### Count the number of films that have been released in each decade over the history of cinema."
      ]
    },
    {
      "cell_type": "code",
      "metadata": {
        "id": "ybwqcDvmAMed",
        "outputId": "906425e1-8cdb-42be-cab8-f9a551b2c16a",
        "colab": {
          "base_uri": "https://localhost:8080/",
          "height": 144
        }
      },
      "source": [
        ""
      ],
      "execution_count": 68,
      "outputs": [
        {
          "output_type": "execute_result",
          "data": {
            "text/html": [
              "<div>\n",
              "<style scoped>\n",
              "    .dataframe tbody tr th:only-of-type {\n",
              "        vertical-align: middle;\n",
              "    }\n",
              "\n",
              "    .dataframe tbody tr th {\n",
              "        vertical-align: top;\n",
              "    }\n",
              "\n",
              "    .dataframe thead th {\n",
              "        text-align: right;\n",
              "    }\n",
              "</style>\n",
              "<table border=\"1\" class=\"dataframe\">\n",
              "  <thead>\n",
              "    <tr style=\"text-align: right;\">\n",
              "      <th></th>\n",
              "      <th>title</th>\n",
              "      <th>year</th>\n",
              "    </tr>\n",
              "  </thead>\n",
              "  <tbody>\n",
              "    <tr>\n",
              "      <th>124505</th>\n",
              "      <td>Reproduction of the Corbett and Jeffries Fight</td>\n",
              "      <td>1899</td>\n",
              "    </tr>\n",
              "    <tr>\n",
              "      <th>177757</th>\n",
              "      <td>Miss Jerry</td>\n",
              "      <td>1894</td>\n",
              "    </tr>\n",
              "    <tr>\n",
              "      <th>215272</th>\n",
              "      <td>The Startled Lover</td>\n",
              "      <td>1898</td>\n",
              "    </tr>\n",
              "  </tbody>\n",
              "</table>\n",
              "</div>"
            ],
            "text/plain": [
              "                                                 title  year\n",
              "124505  Reproduction of the Corbett and Jeffries Fight  1899\n",
              "177757                                      Miss Jerry  1894\n",
              "215272                              The Startled Lover  1898"
            ]
          },
          "metadata": {},
          "execution_count": 68
        }
      ]
    },
    {
      "cell_type": "code",
      "metadata": {
        "collapsed": true,
        "jupyter": {
          "outputs_hidden": true
        },
        "id": "QHZWhQvyxNNc",
        "outputId": "ba7a1042-1fed-4e42-d7db-b49681541ecc",
        "colab": {
          "base_uri": "https://localhost:8080/",
          "height": 520
        }
      },
      "source": [
        "q = titles.groupby((titles[\"year\"]//10)*10).count()\n",
        "q"
      ],
      "execution_count": 66,
      "outputs": [
        {
          "output_type": "execute_result",
          "data": {
            "text/html": [
              "<div>\n",
              "<style scoped>\n",
              "    .dataframe tbody tr th:only-of-type {\n",
              "        vertical-align: middle;\n",
              "    }\n",
              "\n",
              "    .dataframe tbody tr th {\n",
              "        vertical-align: top;\n",
              "    }\n",
              "\n",
              "    .dataframe thead th {\n",
              "        text-align: right;\n",
              "    }\n",
              "</style>\n",
              "<table border=\"1\" class=\"dataframe\">\n",
              "  <thead>\n",
              "    <tr style=\"text-align: right;\">\n",
              "      <th></th>\n",
              "      <th>title</th>\n",
              "      <th>year</th>\n",
              "    </tr>\n",
              "    <tr>\n",
              "      <th>year</th>\n",
              "      <th></th>\n",
              "      <th></th>\n",
              "    </tr>\n",
              "  </thead>\n",
              "  <tbody>\n",
              "    <tr>\n",
              "      <th>1890</th>\n",
              "      <td>3</td>\n",
              "      <td>3</td>\n",
              "    </tr>\n",
              "    <tr>\n",
              "      <th>1900</th>\n",
              "      <td>37</td>\n",
              "      <td>37</td>\n",
              "    </tr>\n",
              "    <tr>\n",
              "      <th>1910</th>\n",
              "      <td>6512</td>\n",
              "      <td>6512</td>\n",
              "    </tr>\n",
              "    <tr>\n",
              "      <th>1920</th>\n",
              "      <td>8797</td>\n",
              "      <td>8797</td>\n",
              "    </tr>\n",
              "    <tr>\n",
              "      <th>1930</th>\n",
              "      <td>10097</td>\n",
              "      <td>10097</td>\n",
              "    </tr>\n",
              "    <tr>\n",
              "      <th>1940</th>\n",
              "      <td>8576</td>\n",
              "      <td>8576</td>\n",
              "    </tr>\n",
              "    <tr>\n",
              "      <th>1950</th>\n",
              "      <td>12711</td>\n",
              "      <td>12711</td>\n",
              "    </tr>\n",
              "    <tr>\n",
              "      <th>1960</th>\n",
              "      <td>17515</td>\n",
              "      <td>17515</td>\n",
              "    </tr>\n",
              "    <tr>\n",
              "      <th>1970</th>\n",
              "      <td>18714</td>\n",
              "      <td>18714</td>\n",
              "    </tr>\n",
              "    <tr>\n",
              "      <th>1980</th>\n",
              "      <td>20243</td>\n",
              "      <td>20243</td>\n",
              "    </tr>\n",
              "    <tr>\n",
              "      <th>1990</th>\n",
              "      <td>22225</td>\n",
              "      <td>22225</td>\n",
              "    </tr>\n",
              "    <tr>\n",
              "      <th>2000</th>\n",
              "      <td>38713</td>\n",
              "      <td>38713</td>\n",
              "    </tr>\n",
              "    <tr>\n",
              "      <th>2010</th>\n",
              "      <td>67977</td>\n",
              "      <td>67977</td>\n",
              "    </tr>\n",
              "    <tr>\n",
              "      <th>2020</th>\n",
              "      <td>210</td>\n",
              "      <td>210</td>\n",
              "    </tr>\n",
              "  </tbody>\n",
              "</table>\n",
              "</div>"
            ],
            "text/plain": [
              "      title   year\n",
              "year              \n",
              "1890      3      3\n",
              "1900     37     37\n",
              "1910   6512   6512\n",
              "1920   8797   8797\n",
              "1930  10097  10097\n",
              "1940   8576   8576\n",
              "1950  12711  12711\n",
              "1960  17515  17515\n",
              "1970  18714  18714\n",
              "1980  20243  20243\n",
              "1990  22225  22225\n",
              "2000  38713  38713\n",
              "2010  67977  67977\n",
              "2020    210    210"
            ]
          },
          "metadata": {},
          "execution_count": 66
        }
      ]
    },
    {
      "cell_type": "code",
      "metadata": {
        "collapsed": true,
        "jupyter": {
          "outputs_hidden": true
        },
        "id": "o0UaLVoXxNNc"
      },
      "source": [
        ""
      ],
      "execution_count": null,
      "outputs": []
    },
    {
      "cell_type": "markdown",
      "metadata": {
        "id": "S-OOwq4TxNNc"
      },
      "source": [
        "### Count the number of \"Hamlet\" films made in each decade."
      ]
    },
    {
      "cell_type": "code",
      "metadata": {
        "collapsed": true,
        "jupyter": {
          "outputs_hidden": true
        },
        "id": "Wo8Ls-bQxNNc",
        "outputId": "284c00a1-df5d-4153-9839-7a36bd1702d6",
        "colab": {
          "base_uri": "https://localhost:8080/",
          "height": 1000
        }
      },
      "source": [
        "q=titles[titles['title'].str.contains(\"Hamlet\")]\n",
        "print(q)\n",
        "q = titles.groupby((q[\"year\"]//10)*10).count()\n",
        "q"
      ],
      "execution_count": 76,
      "outputs": [
        {
          "output_type": "stream",
          "name": "stdout",
          "text": [
            "                                          title  year\n",
            "4394            Dogg's Hamlet, Cahoot's Macbeth  2005\n",
            "6009                                     Hamlet  1948\n",
            "7670                  Hamlet: Prince of Denmark  1989\n",
            "8582                                Hamlet (II)  2005\n",
            "8865                                Hamlet (II)  2015\n",
            "14317                     Green Eggs and Hamlet  1995\n",
            "15183                            Hamlet Unbound  2012\n",
            "15202             Hamlet: The Fall of a Sparrow  2017\n",
            "17419                 Hamlet, Prince of Denmark  1997\n",
            "24178                        Han, hun og Hamlet  1932\n",
            "24284               Intikam Melegi/Kadin Hamlet  1976\n",
            "37146                                  Hamlet_X  2003\n",
            "39230                  Hamlet, Son of a Kingpin  2015\n",
            "42266                               Hamlet (IV)  2016\n",
            "44682                              Hamlet (III)  2007\n",
            "45350                                    Hamlet  1990\n",
            "46721                                    Hamlet  1910\n",
            "62549                            Redneck Hamlet  2017\n",
            "71152   The Tragedy of Hamlet Prince of Denmark  2007\n",
            "72925                        A Sagebrush Hamlet  1919\n",
            "83789                       Harry, Hamlet and I  2013\n",
            "92146                                    Hamlet  1976\n",
            "94355                                    Hamlet  1987\n",
            "94554                                    Hamlet  2000\n",
            "98086                                  Hamlet 2  2008\n",
            "98554                                    Hamlet  1921\n",
            "99398                        Han, hun og Hamlet  1922\n",
            "102506      Predstava 'Hamleta' u Mrdusi Donjoj  1974\n",
            "102919                                   Hamlet  2011\n",
            "109367                            Hamlet Frezer  2016\n",
            "113096                             Hamlet (III)  2016\n",
            "114431                   Hamlet liikemaailmassa  1987\n",
            "122704                                   Hamlet  1969\n",
            "128388                                   Hamlet  1954\n",
            "143184                            Hamlet A.D.D.  2014\n",
            "151918                              Fuck Hamlet  1996\n",
            "163471                              Hamlet (II)  2007\n",
            "166410                                   Hamlet  1913\n",
            "167861                            Zombie Hamlet  2012\n",
            "168965                                   Hamlet  2015\n",
            "172418                Hamlet the Vampire Slayer  2008\n",
            "174293                                 Hamlet X  2004\n",
            "176069                                   Hamlet  2009\n",
            "182970                                   Hamlet  1964\n",
            "192443                             H for Hamlet  1993\n",
            "193914        Royal Shakespeare Company: Hamlet  2016\n",
            "195089                           Hamlet's Ghost  2015\n",
            "201291                                   Hamlet  1996\n",
            "209878                                   Hamlet  1911\n",
            "211393                           Kitchen Hamlet  2009\n",
            "221479                                   Hamlet  1973\n",
            "223568                                   Hamlet  2014\n",
            "223618                   Hamlet in the Hamptons  2002\n",
            "227105                              Hamlet (II)  1964\n"
          ]
        },
        {
          "output_type": "execute_result",
          "data": {
            "text/html": [
              "<div>\n",
              "<style scoped>\n",
              "    .dataframe tbody tr th:only-of-type {\n",
              "        vertical-align: middle;\n",
              "    }\n",
              "\n",
              "    .dataframe tbody tr th {\n",
              "        vertical-align: top;\n",
              "    }\n",
              "\n",
              "    .dataframe thead th {\n",
              "        text-align: right;\n",
              "    }\n",
              "</style>\n",
              "<table border=\"1\" class=\"dataframe\">\n",
              "  <thead>\n",
              "    <tr style=\"text-align: right;\">\n",
              "      <th></th>\n",
              "      <th>title</th>\n",
              "      <th>year</th>\n",
              "    </tr>\n",
              "    <tr>\n",
              "      <th>year</th>\n",
              "      <th></th>\n",
              "      <th></th>\n",
              "    </tr>\n",
              "  </thead>\n",
              "  <tbody>\n",
              "    <tr>\n",
              "      <th>1910.0</th>\n",
              "      <td>4</td>\n",
              "      <td>4</td>\n",
              "    </tr>\n",
              "    <tr>\n",
              "      <th>1920.0</th>\n",
              "      <td>2</td>\n",
              "      <td>2</td>\n",
              "    </tr>\n",
              "    <tr>\n",
              "      <th>1930.0</th>\n",
              "      <td>1</td>\n",
              "      <td>1</td>\n",
              "    </tr>\n",
              "    <tr>\n",
              "      <th>1940.0</th>\n",
              "      <td>1</td>\n",
              "      <td>1</td>\n",
              "    </tr>\n",
              "    <tr>\n",
              "      <th>1950.0</th>\n",
              "      <td>1</td>\n",
              "      <td>1</td>\n",
              "    </tr>\n",
              "    <tr>\n",
              "      <th>1960.0</th>\n",
              "      <td>3</td>\n",
              "      <td>3</td>\n",
              "    </tr>\n",
              "    <tr>\n",
              "      <th>1970.0</th>\n",
              "      <td>4</td>\n",
              "      <td>4</td>\n",
              "    </tr>\n",
              "    <tr>\n",
              "      <th>1980.0</th>\n",
              "      <td>3</td>\n",
              "      <td>3</td>\n",
              "    </tr>\n",
              "    <tr>\n",
              "      <th>1990.0</th>\n",
              "      <td>6</td>\n",
              "      <td>6</td>\n",
              "    </tr>\n",
              "    <tr>\n",
              "      <th>2000.0</th>\n",
              "      <td>13</td>\n",
              "      <td>13</td>\n",
              "    </tr>\n",
              "    <tr>\n",
              "      <th>2010.0</th>\n",
              "      <td>16</td>\n",
              "      <td>16</td>\n",
              "    </tr>\n",
              "  </tbody>\n",
              "</table>\n",
              "</div>"
            ],
            "text/plain": [
              "        title  year\n",
              "year               \n",
              "1910.0      4     4\n",
              "1920.0      2     2\n",
              "1930.0      1     1\n",
              "1940.0      1     1\n",
              "1950.0      1     1\n",
              "1960.0      3     3\n",
              "1970.0      4     4\n",
              "1980.0      3     3\n",
              "1990.0      6     6\n",
              "2000.0     13    13\n",
              "2010.0     16    16"
            ]
          },
          "metadata": {},
          "execution_count": 76
        }
      ]
    },
    {
      "cell_type": "code",
      "metadata": {
        "collapsed": true,
        "jupyter": {
          "outputs_hidden": true
        },
        "id": "b6Lr_gtExNNc"
      },
      "source": [
        ""
      ],
      "execution_count": null,
      "outputs": []
    },
    {
      "cell_type": "markdown",
      "metadata": {
        "id": "4E1CPQSKxNNc"
      },
      "source": [
        "### Count the number of \"Rustler\" characters in each decade of the history of film."
      ]
    },
    {
      "cell_type": "code",
      "metadata": {
        "collapsed": true,
        "jupyter": {
          "outputs_hidden": true
        },
        "id": "vGyvneqGxNNc"
      },
      "source": [
        ""
      ],
      "execution_count": null,
      "outputs": []
    },
    {
      "cell_type": "code",
      "metadata": {
        "collapsed": true,
        "jupyter": {
          "outputs_hidden": true
        },
        "id": "6EI5fsLUxNNc"
      },
      "source": [
        ""
      ],
      "execution_count": null,
      "outputs": []
    },
    {
      "cell_type": "markdown",
      "metadata": {
        "id": "ioWncF_YxNNd"
      },
      "source": [
        "### Count the number of \"Hamlet\" characters in each decade."
      ]
    },
    {
      "cell_type": "code",
      "metadata": {
        "collapsed": true,
        "jupyter": {
          "outputs_hidden": true
        },
        "id": "Njf-SFedxNNd"
      },
      "source": [
        ""
      ],
      "execution_count": null,
      "outputs": []
    },
    {
      "cell_type": "code",
      "metadata": {
        "collapsed": true,
        "jupyter": {
          "outputs_hidden": true
        },
        "id": "NGtjJ_C1xNNd"
      },
      "source": [
        ""
      ],
      "execution_count": null,
      "outputs": []
    },
    {
      "cell_type": "markdown",
      "metadata": {
        "id": "voOF940hxNNd"
      },
      "source": [
        "### What are the 11 most common character names in movie history?"
      ]
    },
    {
      "cell_type": "code",
      "metadata": {
        "collapsed": true,
        "jupyter": {
          "outputs_hidden": true
        },
        "id": "oNAFmKQoxNNd"
      },
      "source": [
        ""
      ],
      "execution_count": null,
      "outputs": []
    },
    {
      "cell_type": "code",
      "metadata": {
        "collapsed": true,
        "jupyter": {
          "outputs_hidden": true
        },
        "id": "BS1e38U1xNNd"
      },
      "source": [
        ""
      ],
      "execution_count": null,
      "outputs": []
    },
    {
      "cell_type": "markdown",
      "metadata": {
        "id": "rlCoz0KRxNNd"
      },
      "source": [
        "### Who are the 10 people most often credited as \"Herself\" in film history?"
      ]
    },
    {
      "cell_type": "code",
      "metadata": {
        "collapsed": true,
        "jupyter": {
          "outputs_hidden": true
        },
        "id": "9X4dcn3lxNNd"
      },
      "source": [
        ""
      ],
      "execution_count": null,
      "outputs": []
    },
    {
      "cell_type": "code",
      "metadata": {
        "collapsed": true,
        "jupyter": {
          "outputs_hidden": true
        },
        "id": "Mm0RZ9qmxNNe"
      },
      "source": [
        ""
      ],
      "execution_count": null,
      "outputs": []
    },
    {
      "cell_type": "markdown",
      "metadata": {
        "id": "FON9x3ELxNNe"
      },
      "source": [
        "### Who are the 10 people most often credited as \"Himself\" in film history?"
      ]
    },
    {
      "cell_type": "code",
      "metadata": {
        "collapsed": true,
        "jupyter": {
          "outputs_hidden": true
        },
        "id": "xE-4j8nFxNNe"
      },
      "source": [
        ""
      ],
      "execution_count": null,
      "outputs": []
    },
    {
      "cell_type": "code",
      "metadata": {
        "collapsed": true,
        "jupyter": {
          "outputs_hidden": true
        },
        "id": "elKNG3gYxNNe"
      },
      "source": [
        ""
      ],
      "execution_count": null,
      "outputs": []
    },
    {
      "cell_type": "markdown",
      "metadata": {
        "id": "XtnDleMAxNNe"
      },
      "source": [
        "### Which actors or actresses appeared in the most movies in the year 1945?"
      ]
    },
    {
      "cell_type": "code",
      "metadata": {
        "collapsed": true,
        "jupyter": {
          "outputs_hidden": true
        },
        "id": "9GceDulUxNNe"
      },
      "source": [
        ""
      ],
      "execution_count": null,
      "outputs": []
    },
    {
      "cell_type": "code",
      "metadata": {
        "collapsed": true,
        "jupyter": {
          "outputs_hidden": true
        },
        "id": "P1qYS5--xNNe"
      },
      "source": [
        ""
      ],
      "execution_count": null,
      "outputs": []
    },
    {
      "cell_type": "markdown",
      "metadata": {
        "id": "pwPx1CxqxNNe"
      },
      "source": [
        "### Which actors or actresses appeared in the most movies in the year 1985?"
      ]
    },
    {
      "cell_type": "code",
      "metadata": {
        "collapsed": true,
        "jupyter": {
          "outputs_hidden": true
        },
        "id": "-jQJqjJkxNNe"
      },
      "source": [
        ""
      ],
      "execution_count": null,
      "outputs": []
    },
    {
      "cell_type": "code",
      "metadata": {
        "collapsed": true,
        "jupyter": {
          "outputs_hidden": true
        },
        "id": "L80zlE1oxNNf"
      },
      "source": [
        ""
      ],
      "execution_count": null,
      "outputs": []
    },
    {
      "cell_type": "markdown",
      "metadata": {
        "id": "lbOXCCr3xNNf"
      },
      "source": [
        "### How many roles \"Mammootty\" has played in each year of his career."
      ]
    },
    {
      "cell_type": "code",
      "metadata": {
        "collapsed": true,
        "jupyter": {
          "outputs_hidden": true
        },
        "id": "gK6X7h5BxNNf"
      },
      "source": [
        ""
      ],
      "execution_count": null,
      "outputs": []
    },
    {
      "cell_type": "code",
      "metadata": {
        "collapsed": true,
        "jupyter": {
          "outputs_hidden": true
        },
        "id": "vf3vgtnUxNNf"
      },
      "source": [
        ""
      ],
      "execution_count": null,
      "outputs": []
    },
    {
      "cell_type": "markdown",
      "metadata": {
        "id": "-nCtrYBgxNNf"
      },
      "source": [
        "### What are the 10 most frequent roles that start with the phrase \"Patron in\"?"
      ]
    },
    {
      "cell_type": "code",
      "metadata": {
        "collapsed": true,
        "jupyter": {
          "outputs_hidden": true
        },
        "id": "F0NiT-J-xNNf"
      },
      "source": [
        ""
      ],
      "execution_count": null,
      "outputs": []
    },
    {
      "cell_type": "code",
      "metadata": {
        "collapsed": true,
        "jupyter": {
          "outputs_hidden": true
        },
        "id": "RKZ9bkZDxNNf"
      },
      "source": [
        ""
      ],
      "execution_count": null,
      "outputs": []
    },
    {
      "cell_type": "markdown",
      "metadata": {
        "id": "bw_0YEbexNNf"
      },
      "source": [
        "### What are the 10 most frequent roles that start with the word \"Science\"?"
      ]
    },
    {
      "cell_type": "code",
      "metadata": {
        "collapsed": true,
        "jupyter": {
          "outputs_hidden": true
        },
        "id": "t7WMjNe3xNNf"
      },
      "source": [
        ""
      ],
      "execution_count": null,
      "outputs": []
    },
    {
      "cell_type": "code",
      "metadata": {
        "collapsed": true,
        "jupyter": {
          "outputs_hidden": true
        },
        "id": "UuPXhkbHxNNg"
      },
      "source": [
        ""
      ],
      "execution_count": null,
      "outputs": []
    },
    {
      "cell_type": "markdown",
      "metadata": {
        "id": "kt5C21sexNNg"
      },
      "source": [
        "### Count number of n-values of the roles that Judi Dench has played over her career."
      ]
    },
    {
      "cell_type": "code",
      "metadata": {
        "collapsed": true,
        "jupyter": {
          "outputs_hidden": true
        },
        "id": "pp1LumpJxNNg"
      },
      "source": [
        ""
      ],
      "execution_count": null,
      "outputs": []
    },
    {
      "cell_type": "code",
      "metadata": {
        "collapsed": true,
        "jupyter": {
          "outputs_hidden": true
        },
        "id": "5WzQYqJcxNNg"
      },
      "source": [
        ""
      ],
      "execution_count": null,
      "outputs": []
    },
    {
      "cell_type": "markdown",
      "metadata": {
        "id": "X-2PQ9ykxNNg"
      },
      "source": [
        "### Count number of n-values of Cary Grant's roles through his career."
      ]
    },
    {
      "cell_type": "code",
      "metadata": {
        "collapsed": true,
        "jupyter": {
          "outputs_hidden": true
        },
        "id": "QXI4ZabIxNNg"
      },
      "source": [
        ""
      ],
      "execution_count": null,
      "outputs": []
    },
    {
      "cell_type": "code",
      "metadata": {
        "collapsed": true,
        "jupyter": {
          "outputs_hidden": true
        },
        "id": "OM07w8OuxNNg"
      },
      "source": [
        ""
      ],
      "execution_count": null,
      "outputs": []
    },
    {
      "cell_type": "markdown",
      "metadata": {
        "id": "9_dsq5EGxNNg"
      },
      "source": [
        "### Count number of n-value of the roles that Sidney Poitier has acted over the years."
      ]
    },
    {
      "cell_type": "code",
      "metadata": {
        "collapsed": true,
        "jupyter": {
          "outputs_hidden": true
        },
        "id": "cdHpSx-1xNNg"
      },
      "source": [
        ""
      ],
      "execution_count": null,
      "outputs": []
    },
    {
      "cell_type": "code",
      "metadata": {
        "collapsed": true,
        "jupyter": {
          "outputs_hidden": true
        },
        "id": "0piHraYTxNNg"
      },
      "source": [
        ""
      ],
      "execution_count": null,
      "outputs": []
    },
    {
      "cell_type": "markdown",
      "metadata": {
        "id": "a4It2ie1xNNg"
      },
      "source": [
        "### How many leading (n=1) roles were available to actors, and how many to actresses, in the 1950s?"
      ]
    },
    {
      "cell_type": "code",
      "metadata": {
        "collapsed": true,
        "jupyter": {
          "outputs_hidden": true
        },
        "id": "yOUQY6YgxNNh"
      },
      "source": [
        ""
      ],
      "execution_count": null,
      "outputs": []
    },
    {
      "cell_type": "code",
      "metadata": {
        "collapsed": true,
        "jupyter": {
          "outputs_hidden": true
        },
        "id": "T4RAq4rmxNNh"
      },
      "source": [
        ""
      ],
      "execution_count": null,
      "outputs": []
    },
    {
      "cell_type": "markdown",
      "metadata": {
        "id": "0XEb2GpvxNNh"
      },
      "source": [
        "### How many supporting (n=2) roles were available to actors, and how many to actresses, in the 1950s?"
      ]
    },
    {
      "cell_type": "code",
      "metadata": {
        "collapsed": true,
        "jupyter": {
          "outputs_hidden": true
        },
        "id": "KGO6rI5TxNNh"
      },
      "source": [
        ""
      ],
      "execution_count": null,
      "outputs": []
    },
    {
      "cell_type": "code",
      "metadata": {
        "collapsed": true,
        "jupyter": {
          "outputs_hidden": true
        },
        "id": "-GdQk16xxNNh"
      },
      "source": [
        ""
      ],
      "execution_count": null,
      "outputs": []
    }
  ]
}