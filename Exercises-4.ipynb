{
  "nbformat": 4,
  "nbformat_minor": 0,
  "metadata": {
    "kernelspec": {
      "display_name": "Python 3",
      "language": "python",
      "name": "python3"
    },
    "language_info": {
      "codemirror_mode": {
        "name": "ipython",
        "version": 3
      },
      "file_extension": ".py",
      "mimetype": "text/x-python",
      "name": "python",
      "nbconvert_exporter": "python",
      "pygments_lexer": "ipython3",
      "version": "3.7.9"
    },
    "colab": {
      "name": "Exercises-4.ipynb",
      "provenance": []
    }
  },
  "cells": [
    {
      "cell_type": "code",
      "metadata": {
        "id": "zJ4Lbnlbl_QE"
      },
      "source": [
        "import pandas as pd"
      ],
      "execution_count": 2,
      "outputs": []
    },
    {
      "cell_type": "markdown",
      "metadata": {
        "id": "tXTYDN_Fl_QF"
      },
      "source": [
        "### Download the data and load it to Pandas. \n",
        "\n",
        "You can find them [here](https://drive.google.com/file/d/1NY6cmF9Shjw-dD7BD6bNmfcIVz-kQcFR/view?usp=sharing)."
      ]
    },
    {
      "cell_type": "code",
      "metadata": {
        "id": "UbsQF_gBl_QF",
        "outputId": "6a56733c-1734-4e23-f74a-ff643d6cdbea",
        "colab": {
          "base_uri": "https://localhost:8080/",
          "height": 204
        }
      },
      "source": [
        "cast = pd.read_csv('cast.csv', index_col=None)\n",
        "cast.head()"
      ],
      "execution_count": 3,
      "outputs": [
        {
          "output_type": "execute_result",
          "data": {
            "text/html": [
              "<div>\n",
              "<style scoped>\n",
              "    .dataframe tbody tr th:only-of-type {\n",
              "        vertical-align: middle;\n",
              "    }\n",
              "\n",
              "    .dataframe tbody tr th {\n",
              "        vertical-align: top;\n",
              "    }\n",
              "\n",
              "    .dataframe thead th {\n",
              "        text-align: right;\n",
              "    }\n",
              "</style>\n",
              "<table border=\"1\" class=\"dataframe\">\n",
              "  <thead>\n",
              "    <tr style=\"text-align: right;\">\n",
              "      <th></th>\n",
              "      <th>title</th>\n",
              "      <th>year</th>\n",
              "      <th>name</th>\n",
              "      <th>type</th>\n",
              "      <th>character</th>\n",
              "      <th>n</th>\n",
              "    </tr>\n",
              "  </thead>\n",
              "  <tbody>\n",
              "    <tr>\n",
              "      <th>0</th>\n",
              "      <td>Closet Monster</td>\n",
              "      <td>2015.0</td>\n",
              "      <td>Buffy #1</td>\n",
              "      <td>actor</td>\n",
              "      <td>Buffy 4</td>\n",
              "      <td>NaN</td>\n",
              "    </tr>\n",
              "    <tr>\n",
              "      <th>1</th>\n",
              "      <td>Suuri illusioni</td>\n",
              "      <td>1985.0</td>\n",
              "      <td>Homo $</td>\n",
              "      <td>actor</td>\n",
              "      <td>Guests</td>\n",
              "      <td>22.0</td>\n",
              "    </tr>\n",
              "    <tr>\n",
              "      <th>2</th>\n",
              "      <td>Battle of the Sexes</td>\n",
              "      <td>2017.0</td>\n",
              "      <td>$hutter</td>\n",
              "      <td>actor</td>\n",
              "      <td>Bobby Riggs Fan</td>\n",
              "      <td>10.0</td>\n",
              "    </tr>\n",
              "    <tr>\n",
              "      <th>3</th>\n",
              "      <td>Secret in Their Eyes</td>\n",
              "      <td>2015.0</td>\n",
              "      <td>$hutter</td>\n",
              "      <td>actor</td>\n",
              "      <td>2002 Dodger Fan</td>\n",
              "      <td>NaN</td>\n",
              "    </tr>\n",
              "    <tr>\n",
              "      <th>4</th>\n",
              "      <td>Steve Jobs</td>\n",
              "      <td>2015.0</td>\n",
              "      <td>$hutter</td>\n",
              "      <td>actor</td>\n",
              "      <td>1988 Opera House Patron</td>\n",
              "      <td>NaN</td>\n",
              "    </tr>\n",
              "  </tbody>\n",
              "</table>\n",
              "</div>"
            ],
            "text/plain": [
              "                  title    year      name   type                character     n\n",
              "0        Closet Monster  2015.0  Buffy #1  actor                  Buffy 4   NaN\n",
              "1       Suuri illusioni  1985.0    Homo $  actor                   Guests  22.0\n",
              "2   Battle of the Sexes  2017.0   $hutter  actor          Bobby Riggs Fan  10.0\n",
              "3  Secret in Their Eyes  2015.0   $hutter  actor          2002 Dodger Fan   NaN\n",
              "4            Steve Jobs  2015.0   $hutter  actor  1988 Opera House Patron   NaN"
            ]
          },
          "metadata": {},
          "execution_count": 3
        }
      ]
    },
    {
      "cell_type": "code",
      "metadata": {
        "id": "WuEfdDAfl_QG",
        "outputId": "3d74982a-34e4-4af2-ae12-15edd8ce8296",
        "colab": {
          "base_uri": "https://localhost:8080/",
          "height": 1000
        }
      },
      "source": [
        "release_dates = pd.read_csv('release_dates.csv', index_col=None,\n",
        "                                      parse_dates=['date'], infer_datetime_format=True)\n",
        "release_dates.head(50)"
      ],
      "execution_count": 11,
      "outputs": [
        {
          "output_type": "execute_result",
          "data": {
            "text/html": [
              "<div>\n",
              "<style scoped>\n",
              "    .dataframe tbody tr th:only-of-type {\n",
              "        vertical-align: middle;\n",
              "    }\n",
              "\n",
              "    .dataframe tbody tr th {\n",
              "        vertical-align: top;\n",
              "    }\n",
              "\n",
              "    .dataframe thead th {\n",
              "        text-align: right;\n",
              "    }\n",
              "</style>\n",
              "<table border=\"1\" class=\"dataframe\">\n",
              "  <thead>\n",
              "    <tr style=\"text-align: right;\">\n",
              "      <th></th>\n",
              "      <th>title</th>\n",
              "      <th>year</th>\n",
              "      <th>country</th>\n",
              "      <th>date</th>\n",
              "    </tr>\n",
              "  </thead>\n",
              "  <tbody>\n",
              "    <tr>\n",
              "      <th>0</th>\n",
              "      <td>#73, Shaanthi Nivaasa</td>\n",
              "      <td>2007</td>\n",
              "      <td>India</td>\n",
              "      <td>2007-06-15</td>\n",
              "    </tr>\n",
              "    <tr>\n",
              "      <th>1</th>\n",
              "      <td>#Beings</td>\n",
              "      <td>2015</td>\n",
              "      <td>Romania</td>\n",
              "      <td>2015-01-29</td>\n",
              "    </tr>\n",
              "    <tr>\n",
              "      <th>2</th>\n",
              "      <td>#Declimax</td>\n",
              "      <td>2018</td>\n",
              "      <td>Netherlands</td>\n",
              "      <td>2018-01-21</td>\n",
              "    </tr>\n",
              "    <tr>\n",
              "      <th>3</th>\n",
              "      <td>#Ewankosau saranghaeyo</td>\n",
              "      <td>2015</td>\n",
              "      <td>Philippines</td>\n",
              "      <td>2015-01-21</td>\n",
              "    </tr>\n",
              "    <tr>\n",
              "      <th>4</th>\n",
              "      <td>#Horror</td>\n",
              "      <td>2015</td>\n",
              "      <td>USA</td>\n",
              "      <td>2015-11-20</td>\n",
              "    </tr>\n",
              "    <tr>\n",
              "      <th>5</th>\n",
              "      <td>#Horror</td>\n",
              "      <td>2015</td>\n",
              "      <td>UK</td>\n",
              "      <td>2016-05-16</td>\n",
              "    </tr>\n",
              "    <tr>\n",
              "      <th>6</th>\n",
              "      <td>#Lucky Number</td>\n",
              "      <td>2015</td>\n",
              "      <td>USA</td>\n",
              "      <td>2015-09-01</td>\n",
              "    </tr>\n",
              "    <tr>\n",
              "      <th>7</th>\n",
              "      <td>#Nerealnaya lyubov</td>\n",
              "      <td>2014</td>\n",
              "      <td>Russia</td>\n",
              "      <td>2014-02-13</td>\n",
              "    </tr>\n",
              "    <tr>\n",
              "      <th>8</th>\n",
              "      <td>#Pellichoopulu</td>\n",
              "      <td>2016</td>\n",
              "      <td>India</td>\n",
              "      <td>2016-07-29</td>\n",
              "    </tr>\n",
              "    <tr>\n",
              "      <th>9</th>\n",
              "      <td>#Roxy</td>\n",
              "      <td>2017</td>\n",
              "      <td>USA</td>\n",
              "      <td>2017-03-01</td>\n",
              "    </tr>\n",
              "    <tr>\n",
              "      <th>10</th>\n",
              "      <td>#Screamers</td>\n",
              "      <td>2016</td>\n",
              "      <td>USA</td>\n",
              "      <td>2017-10-31</td>\n",
              "    </tr>\n",
              "    <tr>\n",
              "      <th>11</th>\n",
              "      <td>#Slaughterhouse</td>\n",
              "      <td>2016</td>\n",
              "      <td>USA</td>\n",
              "      <td>2016-10-01</td>\n",
              "    </tr>\n",
              "    <tr>\n",
              "      <th>12</th>\n",
              "      <td>#Stuck</td>\n",
              "      <td>2014</td>\n",
              "      <td>Turkey</td>\n",
              "      <td>2014-07-01</td>\n",
              "    </tr>\n",
              "    <tr>\n",
              "      <th>13</th>\n",
              "      <td>#Stuck</td>\n",
              "      <td>2014</td>\n",
              "      <td>USA</td>\n",
              "      <td>2014-10-10</td>\n",
              "    </tr>\n",
              "    <tr>\n",
              "      <th>14</th>\n",
              "      <td>#TheFaustFlick</td>\n",
              "      <td>2017</td>\n",
              "      <td>USA</td>\n",
              "      <td>2017-11-03</td>\n",
              "    </tr>\n",
              "    <tr>\n",
              "      <th>15</th>\n",
              "      <td>#WszystkoGra</td>\n",
              "      <td>2016</td>\n",
              "      <td>Poland</td>\n",
              "      <td>2016-05-06</td>\n",
              "    </tr>\n",
              "    <tr>\n",
              "      <th>16</th>\n",
              "      <td>#Y</td>\n",
              "      <td>2014</td>\n",
              "      <td>Philippines</td>\n",
              "      <td>2014-12-10</td>\n",
              "    </tr>\n",
              "    <tr>\n",
              "      <th>17</th>\n",
              "      <td>#garotas: O Filme</td>\n",
              "      <td>2015</td>\n",
              "      <td>Brazil</td>\n",
              "      <td>2015-11-12</td>\n",
              "    </tr>\n",
              "    <tr>\n",
              "      <th>18</th>\n",
              "      <td>#murderchallenge</td>\n",
              "      <td>2017</td>\n",
              "      <td>USA</td>\n",
              "      <td>2017-10-31</td>\n",
              "    </tr>\n",
              "    <tr>\n",
              "      <th>19</th>\n",
              "      <td>$</td>\n",
              "      <td>1971</td>\n",
              "      <td>West Germany</td>\n",
              "      <td>1972-02-17</td>\n",
              "    </tr>\n",
              "    <tr>\n",
              "      <th>20</th>\n",
              "      <td>$</td>\n",
              "      <td>1971</td>\n",
              "      <td>Denmark</td>\n",
              "      <td>1972-03-10</td>\n",
              "    </tr>\n",
              "    <tr>\n",
              "      <th>21</th>\n",
              "      <td>$</td>\n",
              "      <td>1971</td>\n",
              "      <td>Sweden</td>\n",
              "      <td>1972-03-27</td>\n",
              "    </tr>\n",
              "    <tr>\n",
              "      <th>22</th>\n",
              "      <td>$</td>\n",
              "      <td>1971</td>\n",
              "      <td>Finland</td>\n",
              "      <td>1972-05-05</td>\n",
              "    </tr>\n",
              "    <tr>\n",
              "      <th>23</th>\n",
              "      <td>$</td>\n",
              "      <td>1971</td>\n",
              "      <td>Italy</td>\n",
              "      <td>1972-09-12</td>\n",
              "    </tr>\n",
              "    <tr>\n",
              "      <th>24</th>\n",
              "      <td>$</td>\n",
              "      <td>1971</td>\n",
              "      <td>France</td>\n",
              "      <td>1972-09-13</td>\n",
              "    </tr>\n",
              "    <tr>\n",
              "      <th>25</th>\n",
              "      <td>$</td>\n",
              "      <td>1971</td>\n",
              "      <td>Portugal</td>\n",
              "      <td>1972-09-14</td>\n",
              "    </tr>\n",
              "    <tr>\n",
              "      <th>26</th>\n",
              "      <td>$</td>\n",
              "      <td>1971</td>\n",
              "      <td>Japan</td>\n",
              "      <td>1972-10-07</td>\n",
              "    </tr>\n",
              "    <tr>\n",
              "      <th>27</th>\n",
              "      <td>$</td>\n",
              "      <td>1971</td>\n",
              "      <td>Mexico</td>\n",
              "      <td>1972-10-18</td>\n",
              "    </tr>\n",
              "    <tr>\n",
              "      <th>28</th>\n",
              "      <td>$</td>\n",
              "      <td>1971</td>\n",
              "      <td>Ireland</td>\n",
              "      <td>1973-01-26</td>\n",
              "    </tr>\n",
              "    <tr>\n",
              "      <th>29</th>\n",
              "      <td>$</td>\n",
              "      <td>1971</td>\n",
              "      <td>Turkey</td>\n",
              "      <td>1973-11-19</td>\n",
              "    </tr>\n",
              "    <tr>\n",
              "      <th>30</th>\n",
              "      <td>$10 Raise</td>\n",
              "      <td>1935</td>\n",
              "      <td>USA</td>\n",
              "      <td>1935-05-04</td>\n",
              "    </tr>\n",
              "    <tr>\n",
              "      <th>31</th>\n",
              "      <td>$1000 a Touchdown</td>\n",
              "      <td>1939</td>\n",
              "      <td>USA</td>\n",
              "      <td>1939-10-04</td>\n",
              "    </tr>\n",
              "    <tr>\n",
              "      <th>32</th>\n",
              "      <td>$5,000 Reward</td>\n",
              "      <td>1918</td>\n",
              "      <td>USA</td>\n",
              "      <td>1918-05-25</td>\n",
              "    </tr>\n",
              "    <tr>\n",
              "      <th>33</th>\n",
              "      <td>$50,000 Reward</td>\n",
              "      <td>1924</td>\n",
              "      <td>UK</td>\n",
              "      <td>1926-01-25</td>\n",
              "    </tr>\n",
              "    <tr>\n",
              "      <th>34</th>\n",
              "      <td>$50K and a Call Girl: A Love Story</td>\n",
              "      <td>2014</td>\n",
              "      <td>USA</td>\n",
              "      <td>2014-01-14</td>\n",
              "    </tr>\n",
              "    <tr>\n",
              "      <th>35</th>\n",
              "      <td>$9.99</td>\n",
              "      <td>2008</td>\n",
              "      <td>France</td>\n",
              "      <td>2009-04-29</td>\n",
              "    </tr>\n",
              "    <tr>\n",
              "      <th>36</th>\n",
              "      <td>$9.99</td>\n",
              "      <td>2008</td>\n",
              "      <td>Russia</td>\n",
              "      <td>2009-08-13</td>\n",
              "    </tr>\n",
              "    <tr>\n",
              "      <th>37</th>\n",
              "      <td>$9.99</td>\n",
              "      <td>2008</td>\n",
              "      <td>Australia</td>\n",
              "      <td>2009-09-17</td>\n",
              "    </tr>\n",
              "    <tr>\n",
              "      <th>38</th>\n",
              "      <td>$9.99</td>\n",
              "      <td>2008</td>\n",
              "      <td>Portugal</td>\n",
              "      <td>2010-01-07</td>\n",
              "    </tr>\n",
              "    <tr>\n",
              "      <th>39</th>\n",
              "      <td>$kumbagz</td>\n",
              "      <td>2015</td>\n",
              "      <td>USA</td>\n",
              "      <td>2015-03-02</td>\n",
              "    </tr>\n",
              "    <tr>\n",
              "      <th>40</th>\n",
              "      <td>$windle</td>\n",
              "      <td>2002</td>\n",
              "      <td>South Korea</td>\n",
              "      <td>2004-04-12</td>\n",
              "    </tr>\n",
              "    <tr>\n",
              "      <th>41</th>\n",
              "      <td>&amp;Me</td>\n",
              "      <td>2013</td>\n",
              "      <td>Netherlands</td>\n",
              "      <td>2013-03-14</td>\n",
              "    </tr>\n",
              "    <tr>\n",
              "      <th>42</th>\n",
              "      <td>'38</td>\n",
              "      <td>1986</td>\n",
              "      <td>West Germany</td>\n",
              "      <td>1987-04-23</td>\n",
              "    </tr>\n",
              "    <tr>\n",
              "      <th>43</th>\n",
              "      <td>'38</td>\n",
              "      <td>1986</td>\n",
              "      <td>East Germany</td>\n",
              "      <td>1988-03-11</td>\n",
              "    </tr>\n",
              "    <tr>\n",
              "      <th>44</th>\n",
              "      <td>'49-'17</td>\n",
              "      <td>1917</td>\n",
              "      <td>USA</td>\n",
              "      <td>1917-10-15</td>\n",
              "    </tr>\n",
              "    <tr>\n",
              "      <th>45</th>\n",
              "      <td>'71</td>\n",
              "      <td>2014</td>\n",
              "      <td>Ireland</td>\n",
              "      <td>2014-10-10</td>\n",
              "    </tr>\n",
              "    <tr>\n",
              "      <th>46</th>\n",
              "      <td>'71</td>\n",
              "      <td>2014</td>\n",
              "      <td>Sweden</td>\n",
              "      <td>2014-10-10</td>\n",
              "    </tr>\n",
              "    <tr>\n",
              "      <th>47</th>\n",
              "      <td>'71</td>\n",
              "      <td>2014</td>\n",
              "      <td>UK</td>\n",
              "      <td>2014-10-10</td>\n",
              "    </tr>\n",
              "    <tr>\n",
              "      <th>48</th>\n",
              "      <td>'71</td>\n",
              "      <td>2014</td>\n",
              "      <td>Greece</td>\n",
              "      <td>2014-10-16</td>\n",
              "    </tr>\n",
              "    <tr>\n",
              "      <th>49</th>\n",
              "      <td>'71</td>\n",
              "      <td>2014</td>\n",
              "      <td>France</td>\n",
              "      <td>2014-11-05</td>\n",
              "    </tr>\n",
              "  </tbody>\n",
              "</table>\n",
              "</div>"
            ],
            "text/plain": [
              "                                 title  year       country       date\n",
              "0                #73, Shaanthi Nivaasa  2007         India 2007-06-15\n",
              "1                              #Beings  2015       Romania 2015-01-29\n",
              "2                            #Declimax  2018   Netherlands 2018-01-21\n",
              "3               #Ewankosau saranghaeyo  2015   Philippines 2015-01-21\n",
              "4                              #Horror  2015           USA 2015-11-20\n",
              "5                              #Horror  2015            UK 2016-05-16\n",
              "6                        #Lucky Number  2015           USA 2015-09-01\n",
              "7                   #Nerealnaya lyubov  2014        Russia 2014-02-13\n",
              "8                       #Pellichoopulu  2016         India 2016-07-29\n",
              "9                                #Roxy  2017           USA 2017-03-01\n",
              "10                          #Screamers  2016           USA 2017-10-31\n",
              "11                     #Slaughterhouse  2016           USA 2016-10-01\n",
              "12                              #Stuck  2014        Turkey 2014-07-01\n",
              "13                              #Stuck  2014           USA 2014-10-10\n",
              "14                      #TheFaustFlick  2017           USA 2017-11-03\n",
              "15                        #WszystkoGra  2016        Poland 2016-05-06\n",
              "16                                  #Y  2014   Philippines 2014-12-10\n",
              "17                   #garotas: O Filme  2015        Brazil 2015-11-12\n",
              "18                    #murderchallenge  2017           USA 2017-10-31\n",
              "19                                   $  1971  West Germany 1972-02-17\n",
              "20                                   $  1971       Denmark 1972-03-10\n",
              "21                                   $  1971        Sweden 1972-03-27\n",
              "22                                   $  1971       Finland 1972-05-05\n",
              "23                                   $  1971         Italy 1972-09-12\n",
              "24                                   $  1971        France 1972-09-13\n",
              "25                                   $  1971      Portugal 1972-09-14\n",
              "26                                   $  1971         Japan 1972-10-07\n",
              "27                                   $  1971        Mexico 1972-10-18\n",
              "28                                   $  1971       Ireland 1973-01-26\n",
              "29                                   $  1971        Turkey 1973-11-19\n",
              "30                           $10 Raise  1935           USA 1935-05-04\n",
              "31                   $1000 a Touchdown  1939           USA 1939-10-04\n",
              "32                       $5,000 Reward  1918           USA 1918-05-25\n",
              "33                      $50,000 Reward  1924            UK 1926-01-25\n",
              "34  $50K and a Call Girl: A Love Story  2014           USA 2014-01-14\n",
              "35                               $9.99  2008        France 2009-04-29\n",
              "36                               $9.99  2008        Russia 2009-08-13\n",
              "37                               $9.99  2008     Australia 2009-09-17\n",
              "38                               $9.99  2008      Portugal 2010-01-07\n",
              "39                            $kumbagz  2015           USA 2015-03-02\n",
              "40                             $windle  2002   South Korea 2004-04-12\n",
              "41                                 &Me  2013   Netherlands 2013-03-14\n",
              "42                                 '38  1986  West Germany 1987-04-23\n",
              "43                                 '38  1986  East Germany 1988-03-11\n",
              "44                             '49-'17  1917           USA 1917-10-15\n",
              "45                                 '71  2014       Ireland 2014-10-10\n",
              "46                                 '71  2014        Sweden 2014-10-10\n",
              "47                                 '71  2014            UK 2014-10-10\n",
              "48                                 '71  2014        Greece 2014-10-16\n",
              "49                                 '71  2014        France 2014-11-05"
            ]
          },
          "metadata": {},
          "execution_count": 11
        }
      ]
    },
    {
      "cell_type": "code",
      "metadata": {
        "collapsed": true,
        "jupyter": {
          "outputs_hidden": true
        },
        "id": "m0KZElLjl_QG",
        "outputId": "aca82e0a-d12b-4018-ccee-1c035e09c286",
        "colab": {
          "base_uri": "https://localhost:8080/",
          "height": 419
        }
      },
      "source": [
        "release_dates['month'] = release_dates['date'].dt.month\n",
        "release_dates['year'] = release_dates['date'].dt.year\n",
        "release_dates"
      ],
      "execution_count": 20,
      "outputs": [
        {
          "output_type": "execute_result",
          "data": {
            "text/html": [
              "<div>\n",
              "<style scoped>\n",
              "    .dataframe tbody tr th:only-of-type {\n",
              "        vertical-align: middle;\n",
              "    }\n",
              "\n",
              "    .dataframe tbody tr th {\n",
              "        vertical-align: top;\n",
              "    }\n",
              "\n",
              "    .dataframe thead th {\n",
              "        text-align: right;\n",
              "    }\n",
              "</style>\n",
              "<table border=\"1\" class=\"dataframe\">\n",
              "  <thead>\n",
              "    <tr style=\"text-align: right;\">\n",
              "      <th></th>\n",
              "      <th>title</th>\n",
              "      <th>year</th>\n",
              "      <th>country</th>\n",
              "      <th>date</th>\n",
              "      <th>month</th>\n",
              "    </tr>\n",
              "  </thead>\n",
              "  <tbody>\n",
              "    <tr>\n",
              "      <th>0</th>\n",
              "      <td>#73, Shaanthi Nivaasa</td>\n",
              "      <td>2007</td>\n",
              "      <td>India</td>\n",
              "      <td>2007-06-15</td>\n",
              "      <td>6</td>\n",
              "    </tr>\n",
              "    <tr>\n",
              "      <th>1</th>\n",
              "      <td>#Beings</td>\n",
              "      <td>2015</td>\n",
              "      <td>Romania</td>\n",
              "      <td>2015-01-29</td>\n",
              "      <td>1</td>\n",
              "    </tr>\n",
              "    <tr>\n",
              "      <th>2</th>\n",
              "      <td>#Declimax</td>\n",
              "      <td>2018</td>\n",
              "      <td>Netherlands</td>\n",
              "      <td>2018-01-21</td>\n",
              "      <td>1</td>\n",
              "    </tr>\n",
              "    <tr>\n",
              "      <th>3</th>\n",
              "      <td>#Ewankosau saranghaeyo</td>\n",
              "      <td>2015</td>\n",
              "      <td>Philippines</td>\n",
              "      <td>2015-01-21</td>\n",
              "      <td>1</td>\n",
              "    </tr>\n",
              "    <tr>\n",
              "      <th>4</th>\n",
              "      <td>#Horror</td>\n",
              "      <td>2015</td>\n",
              "      <td>USA</td>\n",
              "      <td>2015-11-20</td>\n",
              "      <td>11</td>\n",
              "    </tr>\n",
              "    <tr>\n",
              "      <th>...</th>\n",
              "      <td>...</td>\n",
              "      <td>...</td>\n",
              "      <td>...</td>\n",
              "      <td>...</td>\n",
              "      <td>...</td>\n",
              "    </tr>\n",
              "    <tr>\n",
              "      <th>452651</th>\n",
              "      <td>xXx: State of the Union</td>\n",
              "      <td>2005</td>\n",
              "      <td>USA</td>\n",
              "      <td>2005-04-29</td>\n",
              "      <td>4</td>\n",
              "    </tr>\n",
              "    <tr>\n",
              "      <th>452652</th>\n",
              "      <td>xXx: State of the Union</td>\n",
              "      <td>2005</td>\n",
              "      <td>Poland</td>\n",
              "      <td>2005-06-03</td>\n",
              "      <td>6</td>\n",
              "    </tr>\n",
              "    <tr>\n",
              "      <th>452653</th>\n",
              "      <td>xXx: State of the Union</td>\n",
              "      <td>2005</td>\n",
              "      <td>Turkey</td>\n",
              "      <td>2005-06-03</td>\n",
              "      <td>6</td>\n",
              "    </tr>\n",
              "    <tr>\n",
              "      <th>452654</th>\n",
              "      <td>xXx: State of the Union</td>\n",
              "      <td>2005</td>\n",
              "      <td>China</td>\n",
              "      <td>2005-06-17</td>\n",
              "      <td>6</td>\n",
              "    </tr>\n",
              "    <tr>\n",
              "      <th>452655</th>\n",
              "      <td>xXx: State of the Union</td>\n",
              "      <td>2005</td>\n",
              "      <td>Greece</td>\n",
              "      <td>2005-06-24</td>\n",
              "      <td>6</td>\n",
              "    </tr>\n",
              "  </tbody>\n",
              "</table>\n",
              "<p>452656 rows × 5 columns</p>\n",
              "</div>"
            ],
            "text/plain": [
              "                          title  year      country       date  month\n",
              "0         #73, Shaanthi Nivaasa  2007        India 2007-06-15      6\n",
              "1                       #Beings  2015      Romania 2015-01-29      1\n",
              "2                     #Declimax  2018  Netherlands 2018-01-21      1\n",
              "3        #Ewankosau saranghaeyo  2015  Philippines 2015-01-21      1\n",
              "4                       #Horror  2015          USA 2015-11-20     11\n",
              "...                         ...   ...          ...        ...    ...\n",
              "452651  xXx: State of the Union  2005          USA 2005-04-29      4\n",
              "452652  xXx: State of the Union  2005       Poland 2005-06-03      6\n",
              "452653  xXx: State of the Union  2005       Turkey 2005-06-03      6\n",
              "452654  xXx: State of the Union  2005        China 2005-06-17      6\n",
              "452655  xXx: State of the Union  2005       Greece 2005-06-24      6\n",
              "\n",
              "[452656 rows x 5 columns]"
            ]
          },
          "metadata": {},
          "execution_count": 20
        }
      ]
    },
    {
      "cell_type": "markdown",
      "metadata": {
        "id": "tFdzbcDEl_QG"
      },
      "source": [
        "### Count the number of movies with \"Christmas\" in their title for each month, that is released are the USA."
      ]
    },
    {
      "cell_type": "code",
      "metadata": {
        "collapsed": true,
        "jupyter": {
          "outputs_hidden": true
        },
        "id": "Rob-Mpccl_QG",
        "outputId": "f7492c43-f8dd-483c-c901-afa1893d9b9a",
        "colab": {
          "base_uri": "https://localhost:8080/",
          "height": 390
        }
      },
      "source": [
        "\n",
        "q = release_dates[release_dates[\"title\"].str.contains(\"Christmas\")]\n",
        "\n",
        "q = q[q[\"country\"].str.contains(\"USA\")]\n",
        "q[['month','country','title']].groupby(['month','country'], as_index=False).count()\n",
        "\n"
      ],
      "execution_count": 27,
      "outputs": [
        {
          "output_type": "execute_result",
          "data": {
            "text/html": [
              "<div>\n",
              "<style scoped>\n",
              "    .dataframe tbody tr th:only-of-type {\n",
              "        vertical-align: middle;\n",
              "    }\n",
              "\n",
              "    .dataframe tbody tr th {\n",
              "        vertical-align: top;\n",
              "    }\n",
              "\n",
              "    .dataframe thead th {\n",
              "        text-align: right;\n",
              "    }\n",
              "</style>\n",
              "<table border=\"1\" class=\"dataframe\">\n",
              "  <thead>\n",
              "    <tr style=\"text-align: right;\">\n",
              "      <th></th>\n",
              "      <th>month</th>\n",
              "      <th>country</th>\n",
              "      <th>title</th>\n",
              "    </tr>\n",
              "  </thead>\n",
              "  <tbody>\n",
              "    <tr>\n",
              "      <th>0</th>\n",
              "      <td>1</td>\n",
              "      <td>USA</td>\n",
              "      <td>2</td>\n",
              "    </tr>\n",
              "    <tr>\n",
              "      <th>1</th>\n",
              "      <td>2</td>\n",
              "      <td>USA</td>\n",
              "      <td>2</td>\n",
              "    </tr>\n",
              "    <tr>\n",
              "      <th>2</th>\n",
              "      <td>4</td>\n",
              "      <td>USA</td>\n",
              "      <td>1</td>\n",
              "    </tr>\n",
              "    <tr>\n",
              "      <th>3</th>\n",
              "      <td>5</td>\n",
              "      <td>USA</td>\n",
              "      <td>1</td>\n",
              "    </tr>\n",
              "    <tr>\n",
              "      <th>4</th>\n",
              "      <td>6</td>\n",
              "      <td>USA</td>\n",
              "      <td>1</td>\n",
              "    </tr>\n",
              "    <tr>\n",
              "      <th>5</th>\n",
              "      <td>7</td>\n",
              "      <td>USA</td>\n",
              "      <td>1</td>\n",
              "    </tr>\n",
              "    <tr>\n",
              "      <th>6</th>\n",
              "      <td>8</td>\n",
              "      <td>USA</td>\n",
              "      <td>2</td>\n",
              "    </tr>\n",
              "    <tr>\n",
              "      <th>7</th>\n",
              "      <td>9</td>\n",
              "      <td>USA</td>\n",
              "      <td>2</td>\n",
              "    </tr>\n",
              "    <tr>\n",
              "      <th>8</th>\n",
              "      <td>10</td>\n",
              "      <td>USA</td>\n",
              "      <td>14</td>\n",
              "    </tr>\n",
              "    <tr>\n",
              "      <th>9</th>\n",
              "      <td>11</td>\n",
              "      <td>USA</td>\n",
              "      <td>38</td>\n",
              "    </tr>\n",
              "    <tr>\n",
              "      <th>10</th>\n",
              "      <td>12</td>\n",
              "      <td>USA</td>\n",
              "      <td>47</td>\n",
              "    </tr>\n",
              "  </tbody>\n",
              "</table>\n",
              "</div>"
            ],
            "text/plain": [
              "    month country  title\n",
              "0       1     USA      2\n",
              "1       2     USA      2\n",
              "2       4     USA      1\n",
              "3       5     USA      1\n",
              "4       6     USA      1\n",
              "5       7     USA      1\n",
              "6       8     USA      2\n",
              "7       9     USA      2\n",
              "8      10     USA     14\n",
              "9      11     USA     38\n",
              "10     12     USA     47"
            ]
          },
          "metadata": {},
          "execution_count": 27
        }
      ]
    },
    {
      "cell_type": "code",
      "metadata": {
        "collapsed": true,
        "jupyter": {
          "outputs_hidden": true
        },
        "id": "ZHMWI3qKl_QG",
        "outputId": "dccf10fe-9a54-4c2f-dcb7-b5b25267ca23",
        "colab": {
          "base_uri": "https://localhost:8080/",
          "height": 419
        }
      },
      "source": [
        ""
      ],
      "execution_count": 6,
      "outputs": [
        {
          "output_type": "execute_result",
          "data": {
            "text/html": [
              "<div>\n",
              "<style scoped>\n",
              "    .dataframe tbody tr th:only-of-type {\n",
              "        vertical-align: middle;\n",
              "    }\n",
              "\n",
              "    .dataframe tbody tr th {\n",
              "        vertical-align: top;\n",
              "    }\n",
              "\n",
              "    .dataframe thead th {\n",
              "        text-align: right;\n",
              "    }\n",
              "</style>\n",
              "<table border=\"1\" class=\"dataframe\">\n",
              "  <thead>\n",
              "    <tr style=\"text-align: right;\">\n",
              "      <th></th>\n",
              "      <th>title</th>\n",
              "      <th>year</th>\n",
              "      <th>name</th>\n",
              "      <th>type</th>\n",
              "      <th>character</th>\n",
              "      <th>n</th>\n",
              "    </tr>\n",
              "  </thead>\n",
              "  <tbody>\n",
              "    <tr>\n",
              "      <th>1599</th>\n",
              "      <td>Office Christmas Party</td>\n",
              "      <td>2016.0</td>\n",
              "      <td>Ralph Abbas</td>\n",
              "      <td>actor</td>\n",
              "      <td>Office Worker</td>\n",
              "      <td>NaN</td>\n",
              "    </tr>\n",
              "    <tr>\n",
              "      <th>1600</th>\n",
              "      <td>Office Christmas Party</td>\n",
              "      <td>2016.0</td>\n",
              "      <td>Ralph Abbas</td>\n",
              "      <td>actor</td>\n",
              "      <td>Party Crasher</td>\n",
              "      <td>NaN</td>\n",
              "    </tr>\n",
              "    <tr>\n",
              "      <th>3542</th>\n",
              "      <td>A Merry Little Christmas</td>\n",
              "      <td>2006.0</td>\n",
              "      <td>Chris Abel</td>\n",
              "      <td>actor</td>\n",
              "      <td>Crowdy Rowdy #1</td>\n",
              "      <td>NaN</td>\n",
              "    </tr>\n",
              "    <tr>\n",
              "      <th>3736</th>\n",
              "      <td>A Modern Christmas Story</td>\n",
              "      <td>2017.0</td>\n",
              "      <td>Rene Abelar</td>\n",
              "      <td>actor</td>\n",
              "      <td>Rene (Wounded Man)</td>\n",
              "      <td>NaN</td>\n",
              "    </tr>\n",
              "    <tr>\n",
              "      <th>3896</th>\n",
              "      <td>Operation Christmas List</td>\n",
              "      <td>2016.0</td>\n",
              "      <td>Gene (VI) Abella</td>\n",
              "      <td>actor</td>\n",
              "      <td>Moe</td>\n",
              "      <td>9.0</td>\n",
              "    </tr>\n",
              "    <tr>\n",
              "      <th>...</th>\n",
              "      <td>...</td>\n",
              "      <td>...</td>\n",
              "      <td>...</td>\n",
              "      <td>...</td>\n",
              "      <td>...</td>\n",
              "      <td>...</td>\n",
              "    </tr>\n",
              "    <tr>\n",
              "      <th>2336320</th>\n",
              "      <td>A Christmas Star</td>\n",
              "      <td>2015.0</td>\n",
              "      <td>Darran Watt</td>\n",
              "      <td>actor</td>\n",
              "      <td>Factory Worker</td>\n",
              "      <td>NaN</td>\n",
              "    </tr>\n",
              "    <tr>\n",
              "      <th>2336723</th>\n",
              "      <td>Renfroe's Christmas</td>\n",
              "      <td>1997.0</td>\n",
              "      <td>Phillip Watton</td>\n",
              "      <td>actor</td>\n",
              "      <td>School Bully</td>\n",
              "      <td>15.0</td>\n",
              "    </tr>\n",
              "    <tr>\n",
              "      <th>2337305</th>\n",
              "      <td>Happy Christmas</td>\n",
              "      <td>2014.0</td>\n",
              "      <td>Michael Wawzenek</td>\n",
              "      <td>actor</td>\n",
              "      <td>Party Guest</td>\n",
              "      <td>31.0</td>\n",
              "    </tr>\n",
              "    <tr>\n",
              "      <th>2337478</th>\n",
              "      <td>Beverly Hills Christmas</td>\n",
              "      <td>2015.0</td>\n",
              "      <td>Matt Way</td>\n",
              "      <td>actor</td>\n",
              "      <td>Patron #41</td>\n",
              "      <td>73.0</td>\n",
              "    </tr>\n",
              "    <tr>\n",
              "      <th>2337656</th>\n",
              "      <td>A Doggone Christmas</td>\n",
              "      <td>2016.0</td>\n",
              "      <td>Andrew Wayman</td>\n",
              "      <td>actor</td>\n",
              "      <td>Soldier</td>\n",
              "      <td>NaN</td>\n",
              "    </tr>\n",
              "  </tbody>\n",
              "</table>\n",
              "<p>3690 rows × 6 columns</p>\n",
              "</div>"
            ],
            "text/plain": [
              "                            title    year  ...           character     n\n",
              "1599       Office Christmas Party  2016.0  ...       Office Worker   NaN\n",
              "1600       Office Christmas Party  2016.0  ...       Party Crasher   NaN\n",
              "3542     A Merry Little Christmas  2006.0  ...     Crowdy Rowdy #1   NaN\n",
              "3736     A Modern Christmas Story  2017.0  ...  Rene (Wounded Man)   NaN\n",
              "3896     Operation Christmas List  2016.0  ...                 Moe   9.0\n",
              "...                           ...     ...  ...                 ...   ...\n",
              "2336320          A Christmas Star  2015.0  ...      Factory Worker   NaN\n",
              "2336723       Renfroe's Christmas  1997.0  ...        School Bully  15.0\n",
              "2337305           Happy Christmas  2014.0  ...         Party Guest  31.0\n",
              "2337478   Beverly Hills Christmas  2015.0  ...          Patron #41  73.0\n",
              "2337656       A Doggone Christmas  2016.0  ...             Soldier   NaN\n",
              "\n",
              "[3690 rows x 6 columns]"
            ]
          },
          "metadata": {},
          "execution_count": 6
        }
      ]
    },
    {
      "cell_type": "markdown",
      "metadata": {
        "id": "08aif7Mbl_QH"
      },
      "source": [
        "### Count the number of movies with \"Christmas\" in their title for each month, that are released in Canada."
      ]
    },
    {
      "cell_type": "code",
      "metadata": {
        "id": "HHtuF-efl_QH"
      },
      "source": [
        ""
      ],
      "execution_count": 5,
      "outputs": []
    },
    {
      "cell_type": "code",
      "metadata": {
        "id": "x7DVYf8Wl_QH"
      },
      "source": [
        ""
      ],
      "execution_count": 5,
      "outputs": []
    },
    {
      "cell_type": "markdown",
      "metadata": {
        "id": "tXjayQdql_QH"
      },
      "source": [
        "### Count the number of movies in which the titles start with \"The Hobbit\" for each month, that are released in the USA."
      ]
    },
    {
      "cell_type": "code",
      "metadata": {
        "collapsed": true,
        "jupyter": {
          "outputs_hidden": true
        },
        "id": "G6_I1WVQl_QH"
      },
      "source": [
        ""
      ],
      "execution_count": 5,
      "outputs": []
    },
    {
      "cell_type": "code",
      "metadata": {
        "collapsed": true,
        "jupyter": {
          "outputs_hidden": true
        },
        "id": "t9TpmgpAl_QH"
      },
      "source": [
        ""
      ],
      "execution_count": 5,
      "outputs": []
    },
    {
      "cell_type": "markdown",
      "metadata": {
        "id": "Pe2MQMQdl_QH"
      },
      "source": [
        "### Count the number of movies with \"Romance\" in their title for **each day of the week**, that are released in the USA."
      ]
    },
    {
      "cell_type": "code",
      "metadata": {
        "collapsed": true,
        "jupyter": {
          "outputs_hidden": true
        },
        "id": "A9L-Wlyil_QH"
      },
      "source": [
        ""
      ],
      "execution_count": 5,
      "outputs": []
    },
    {
      "cell_type": "code",
      "metadata": {
        "collapsed": true,
        "jupyter": {
          "outputs_hidden": true
        },
        "id": "3P1IWZMil_QI"
      },
      "source": [
        ""
      ],
      "execution_count": 5,
      "outputs": []
    },
    {
      "cell_type": "markdown",
      "metadata": {
        "id": "LB3-kPZWl_QI"
      },
      "source": [
        "### Count the number of movies with \"Action\" in their title for **each day of the week**, that are released in the USA."
      ]
    },
    {
      "cell_type": "code",
      "metadata": {
        "collapsed": true,
        "jupyter": {
          "outputs_hidden": true
        },
        "id": "MMRad0uel_QI"
      },
      "source": [
        ""
      ],
      "execution_count": 5,
      "outputs": []
    },
    {
      "cell_type": "code",
      "metadata": {
        "collapsed": true,
        "jupyter": {
          "outputs_hidden": true
        },
        "id": "fbqn5FVzl_QI"
      },
      "source": [
        ""
      ],
      "execution_count": 5,
      "outputs": []
    },
    {
      "cell_type": "markdown",
      "metadata": {
        "id": "LTwqvN2Al_QI"
      },
      "source": [
        "### On which date was each Judi Dench movie from the 1990s released in the USA?"
      ]
    },
    {
      "cell_type": "code",
      "metadata": {
        "collapsed": true,
        "jupyter": {
          "outputs_hidden": true
        },
        "id": "CPqnNoiHl_QI"
      },
      "source": [
        ""
      ],
      "execution_count": 5,
      "outputs": []
    },
    {
      "cell_type": "code",
      "metadata": {
        "collapsed": true,
        "jupyter": {
          "outputs_hidden": true
        },
        "id": "2knek-gXl_QI"
      },
      "source": [
        ""
      ],
      "execution_count": 5,
      "outputs": []
    },
    {
      "cell_type": "markdown",
      "metadata": {
        "id": "_9jcwOwrl_QJ"
      },
      "source": [
        "### In which months do films with the actress Judi Dench tend to be released in the USA?"
      ]
    },
    {
      "cell_type": "code",
      "metadata": {
        "collapsed": true,
        "jupyter": {
          "outputs_hidden": true
        },
        "id": "uMxwK2Y9l_QJ"
      },
      "source": [
        ""
      ],
      "execution_count": 5,
      "outputs": []
    },
    {
      "cell_type": "code",
      "metadata": {
        "collapsed": true,
        "jupyter": {
          "outputs_hidden": true
        },
        "id": "UhxmoqUWl_QJ"
      },
      "source": [
        ""
      ],
      "execution_count": 5,
      "outputs": []
    },
    {
      "cell_type": "markdown",
      "metadata": {
        "id": "lDQQUI9ml_QJ"
      },
      "source": [
        "### In which months do films with the actor Tom Cruise tend to be released in the USA?"
      ]
    },
    {
      "cell_type": "code",
      "metadata": {
        "collapsed": true,
        "jupyter": {
          "outputs_hidden": true
        },
        "id": "W3OTZd3Yl_QJ"
      },
      "source": [
        ""
      ],
      "execution_count": 5,
      "outputs": []
    },
    {
      "cell_type": "code",
      "metadata": {
        "collapsed": true,
        "jupyter": {
          "outputs_hidden": true
        },
        "id": "0zV8LIHFl_QJ"
      },
      "source": [
        ""
      ],
      "execution_count": 5,
      "outputs": []
    }
  ]
}